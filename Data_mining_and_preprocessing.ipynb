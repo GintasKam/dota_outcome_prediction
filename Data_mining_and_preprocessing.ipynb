{
 "cells": [
  {
   "cell_type": "markdown",
   "metadata": {},
   "source": [
    "# Mining the data #"
   ]
  },
  {
   "cell_type": "code",
   "execution_count": 70,
   "metadata": {},
   "outputs": [],
   "source": [
    "import requests\n",
    "import pprint\n",
    "import json\n",
    "import pandas as pd\n",
    "import numpy as np\n",
    "import time\n",
    "from tqdm import tqdm_notebook\n",
    "import pickle\n",
    "from scipy.sparse import csr_matrix, hstack\n",
    "from sklearn.model_selection import train_test_split\n",
    "import matplotlib.pyplot as plt\n",
    "import seaborn as sns"
   ]
  },
  {
   "cell_type": "markdown",
   "metadata": {},
   "source": [
    "We will use the OpenDota API; each call gives a sample of 100 matches below a specified MatchID. After filtering for high mmr, we get 20-40 matches per call. Use one-hot-encoding to convert these to a numpy array (1s where the hero is picked, 0s elsewhere):"
   ]
  },
  {
   "cell_type": "markdown",
   "metadata": {},
   "source": [
    "First get the hero dictionary:"
   ]
  },
  {
   "cell_type": "code",
   "execution_count": 19,
   "metadata": {},
   "outputs": [],
   "source": [
    "h = requests.get(\"https://api.opendota.com/api/heroes\").json()\n",
    "hero_df = pd.DataFrame(h)\n",
    "hero_df = hero_df.drop(hero_df.index[-1])"
   ]
  },
  {
   "cell_type": "code",
   "execution_count": 4,
   "metadata": {},
   "outputs": [],
   "source": [
    "def pickaxe(below_match_id = None):\n",
    "    # Pick out relevant matches from a sample of 100\n",
    "    over4k = []\n",
    "    if below_match_id == None:\n",
    "        string = 'https://api.opendota.com/api/publicMatches'\n",
    "    else:\n",
    "        string = 'https://api.opendota.com/api/publicMatches?less_than_match_id=' + str(below_match_id)\n",
    "    try:\n",
    "        A = requests.get(string).json()\n",
    "    except: return over4k, below_match_id\n",
    "    \n",
    "    for i in range(len(A)):\n",
    "        try:\n",
    "            if A[i].get('avg_mmr', None) is not None:\n",
    "                if A[i]['game_mode'] == 22 and A[i]['avg_mmr'] > 4000:\n",
    "                    over4k.append(A[i])\n",
    "        except: return over4k, below_match_id\n",
    "    lowest_match_id = A[-1]['match_id']\n",
    "    return over4k, lowest_match_id\n",
    "\n",
    "def picked_heroes(hero_string):\n",
    "    # Convert the string from pickaxe() to a length 116 array with 1s on picked heroes, 0 elsewhere.\n",
    "    team_input = np.zeros(len(hero_df))\n",
    "    y = [int(i) for i in hero_string.split(',')]\n",
    "    for item in y:\n",
    "        idx = int(hero_df[hero_df['id'] == item].index[0])\n",
    "        team_input[idx] += 1\n",
    "    return team_input\n",
    "\n",
    "def process_the_pickaxe(game_list):\n",
    "    Xt = np.zeros(232)\n",
    "    yt = np.array(0)\n",
    "    for item in game_list:\n",
    "        X = np.hstack((picked_heroes(item['radiant_team']), picked_heroes(item['dire_team'])))\n",
    "        y = np.array(0)\n",
    "        y += item['radiant_win']*1\n",
    "        Xt = np.vstack((Xt,X))\n",
    "        yt = np.vstack((yt,y))\n",
    "    Xt = np.delete(Xt, 0, 0)\n",
    "    yt = np.delete(yt, 0, 0)\n",
    "    if Xt.shape == (231,):\n",
    "        Xt = None\n",
    "        yt = None\n",
    "    return Xt, yt\n",
    "\n",
    "def single_call(last_match_id = None):\n",
    "    # Perform a call for 100 matches and process it.\n",
    "    if last_match_id == None:\n",
    "        a,c = pickaxe()\n",
    "    else:\n",
    "        a,c = pickaxe(last_match_id)\n",
    "    X_4, y_4 = process_the_pickaxe(a)\n",
    "    return X_4, y_4, c\n",
    "\n",
    "def multiple_calls(call_number = 60, last_match_id = None):\n",
    "    Total_X_4 = np.zeros(232)\n",
    "    Total_y_4 = np.array(0)\n",
    "    for i in tqdm_notebook(range(call_number)):\n",
    "        time.sleep(1)\n",
    "        X_4, y_4, last_match_id = single_call(last_match_id = last_match_id)\n",
    "        if X_4 is not None:\n",
    "            Total_X_4 = np.vstack((Total_X_4, X_4))\n",
    "            Total_y_4 = np.vstack((Total_y_4, y_4))\n",
    "    Total_X_4 = np.delete(Total_X_4, 0, 0)\n",
    "    Total_y_4 = np.delete(Total_y_4, 0, 0)\n",
    "    return Total_X_4, Total_y_4, last_match_id\n",
    "\n",
    "def import_the_data():\n",
    "    infile = open('X_big_cat_2','rb')\n",
    "    X = pickle.load(infile)\n",
    "    infile.close()\n",
    "    infile = open('y_big','rb')\n",
    "    y = pickle.load(infile)\n",
    "    infile.close()\n",
    "    return X,y\n",
    "\n",
    "def save_data(X,X_name):\n",
    "    filename = X_name\n",
    "    outfile = open(filename,'wb')\n",
    "    pickle.dump(X,outfile)\n",
    "    outfile.close()"
   ]
  },
  {
   "cell_type": "code",
   "execution_count": 7,
   "metadata": {},
   "outputs": [
    {
     "data": {
      "application/vnd.jupyter.widget-view+json": {
       "model_id": "53c5f1b1aafa4af482892cb412a04f4e",
       "version_major": 2,
       "version_minor": 0
      },
      "text/plain": [
       "HBox(children=(IntProgress(value=0, max=18000), HTML(value='')))"
      ]
     },
     "metadata": {},
     "output_type": "display_data"
    },
    {
     "name": "stderr",
     "output_type": "stream",
     "text": [
      "C:\\Users\\Gintas\\Anaconda3\\envs\\tensorflow\\lib\\site-packages\\ipykernel_launcher.py:43: DeprecationWarning: in the future the special handling of scalars will be removed from delete and raise an error\n"
     ]
    }
   ],
   "source": [
    "X, y, match_id = multiple_calls(call_number = 18000, last_match_id=None)"
   ]
  },
  {
   "cell_type": "markdown",
   "metadata": {},
   "source": [
    "Convert to sparse matrix to save space, and save onto pickled files:"
   ]
  },
  {
   "cell_type": "code",
   "execution_count": null,
   "metadata": {},
   "outputs": [],
   "source": [
    "X = csr_matrix(X)\n",
    "save_data(X,'X_total')\n",
    "save_data(y,'y_total')"
   ]
  },
  {
   "cell_type": "markdown",
   "metadata": {},
   "source": [
    "## Preliminary data analysis"
   ]
  },
  {
   "cell_type": "markdown",
   "metadata": {},
   "source": [
    "Let's consider the hero winrate and hero pickrate distributions. For the purpose of feature engineering, we will restrict to the training set (exclude validation/test sets)."
   ]
  },
  {
   "cell_type": "code",
   "execution_count": 12,
   "metadata": {},
   "outputs": [
    {
     "name": "stdout",
     "output_type": "stream",
     "text": [
      "X_train shape: (106720, 260)\n"
     ]
    }
   ],
   "source": [
    "X,y = import_the_data()\n",
    "X = X.toarray()\n",
    "X_train, X_test, y_train, y_test = train_test_split(X,y, test_size = 0.2, random_state = 42)\n",
    "print('X_train shape:', X_train.shape)\n",
    "X,y = X_train, y_train"
   ]
  },
  {
   "cell_type": "code",
   "execution_count": 13,
   "metadata": {},
   "outputs": [],
   "source": [
    "def winrate_and_popularity(idx):\n",
    "    # Given the index 0-116, output the winrate and number of games played\n",
    "    wins = 0\n",
    "    losses = 0\n",
    "    for i in range(X.shape[0]):\n",
    "        if X[i,idx] == 1 and y[i] == 1:\n",
    "            wins += 1\n",
    "        if X[i,idx] == 1 and y[i] == 0:\n",
    "            losses += 1\n",
    "        if X[i,idx+116] == 1 and y[i] == 1:\n",
    "            losses += 1\n",
    "        if X[i,idx+116] == 1 and y[i] == 0:\n",
    "            wins += 1\n",
    "    winrate = wins / (wins + losses)\n",
    "    total_games = wins + losses\n",
    "    return winrate, total_games"
   ]
  },
  {
   "cell_type": "code",
   "execution_count": 20,
   "metadata": {},
   "outputs": [
    {
     "data": {
      "application/vnd.jupyter.widget-view+json": {
       "model_id": "173f7d99b0e146aa861ed5c26b45790b",
       "version_major": 2,
       "version_minor": 0
      },
      "text/plain": [
       "HBox(children=(IntProgress(value=0, max=116), HTML(value='')))"
      ]
     },
     "metadata": {},
     "output_type": "display_data"
    }
   ],
   "source": [
    "winrates = []\n",
    "games = []\n",
    "\n",
    "for i in tqdm_notebook(range(len(hero_df))):\n",
    "    winrate, total_games = winrate_and_popularity(i)\n",
    "    winrates.append(winrate)\n",
    "    games.append(total_games)"
   ]
  },
  {
   "cell_type": "code",
   "execution_count": 49,
   "metadata": {},
   "outputs": [],
   "source": [
    "# Add hero winrates and pickrates to the hero dictionary\n",
    "\n",
    "hero_df['winrate'] = pd.Series(winrates)\n",
    "hero_df['pickrate'] = pd.Series(games)\n",
    "hero_df['pickrate'] /= X.shape[0]"
   ]
  },
  {
   "cell_type": "code",
   "execution_count": 99,
   "metadata": {},
   "outputs": [
    {
     "data": {
      "image/png": "[encoded data removed]",
      "text/plain": [
       "<Figure size 1152x576 with 2 Axes>"
      ]
     },
     "metadata": {
      "needs_background": "light"
     },
     "output_type": "display_data"
    }
   ],
   "source": [
    "plt.figure(figsize=(16,8))\n",
    "plt.subplot(1,2,1)\n",
    "sns.distplot(hero_df['winrate'])\n",
    "plt.title('Hero winrate distribution')\n",
    "plt.subplot(1,2,2)\n",
    "sns.distplot(hero_df['pickrate'])\n",
    "plt.title('Hero pick rate distribution');"
   ]
  },
  {
   "cell_type": "markdown",
   "metadata": {},
   "source": [
    "We will build our features to emphasise outliers visible above: both tails of the gaussian hero winrate as well as the most frequently picked heroes. Let's look at them more closely:"
   ]
  },
  {
   "cell_type": "code",
   "execution_count": 50,
   "metadata": {},
   "outputs": [],
   "source": [
    "least_winrates = hero_df.sort_values(by = ['winrate'], ascending = False)[['localized_name', 'winrate']].tail(10)\n",
    "top_winrates = hero_df.sort_values(by = ['winrate'], ascending = False)[['localized_name', 'winrate']].head(10)\n",
    "top_popularity = hero_df.sort_values(by = ['pickrate'], ascending = False)[['localized_name', 'pickrate']].head(10)"
   ]
  },
  {
   "cell_type": "code",
   "execution_count": 102,
   "metadata": {},
   "outputs": [
    {
     "data": {
      "image/png": "[encoded data removed]",
      "text/plain": [
       "<Figure size 1152x576 with 1 Axes>"
      ]
     },
     "metadata": {
      "needs_background": "light"
     },
     "output_type": "display_data"
    }
   ],
   "source": [
    "plt.figure(figsize = (16,8))\n",
    "plt.title('Top winrate heroes')\n",
    "y_pos = np.arange(10)\n",
    "plt.bar(y_pos, top_winrates['winrate']-0.5, align='center',  bottom = 0.5, alpha = 0.5)\n",
    "plt.xticks(y_pos, top_winrates['localized_name'])\n",
    "plt.ylabel('winrate');"
   ]
  },
  {
   "cell_type": "code",
   "execution_count": 104,
   "metadata": {},
   "outputs": [
    {
     "data": {
      "image/png": "[encoded data removed]",
      "text/plain": [
       "<Figure size 1152x576 with 1 Axes>"
      ]
     },
     "metadata": {
      "needs_background": "light"
     },
     "output_type": "display_data"
    }
   ],
   "source": [
    "plt.figure(figsize = (16,8))\n",
    "plt.title('Most popular heroes')\n",
    "y_pos = np.arange(10)\n",
    "plt.bar(y_pos, top_popularity['pickrate']- 0.15, align='center', alpha = 0.5, bottom  = 0.15)\n",
    "plt.xticks(y_pos, top_popularity['localized_name'])\n",
    "plt.ylabel('pick rate');"
   ]
  },
  {
   "cell_type": "markdown",
   "metadata": {},
   "source": [
    "# Feature engineering##"
   ]
  },
  {
   "cell_type": "markdown",
   "metadata": {},
   "source": [
    "## 1) More information about the heroes"
   ]
  },
  {
   "cell_type": "markdown",
   "metadata": {},
   "source": [
    "Aside from passing the one-hot-encoded hero picks, it's a good idea to let the model know how many carries / supports the team has in total (a balanced combination should yield higher winrates that too many carries or too many supports). Use the hero dictionary, which stores the hero roles, to get the total carry/support numbers and append them to the one-hot array. \n",
    "\n",
    "While we're at it, we will pass the total agi/str/int hero count, as well as the melee/range count."
   ]
  },
  {
   "cell_type": "code",
   "execution_count": 15,
   "metadata": {},
   "outputs": [],
   "source": [
    "X,y = import_the_data()"
   ]
  },
  {
   "cell_type": "code",
   "execution_count": 12,
   "metadata": {},
   "outputs": [],
   "source": [
    "X = csr_matrix(X)"
   ]
  },
  {
   "cell_type": "code",
   "execution_count": 6,
   "metadata": {
    "scrolled": true
   },
   "outputs": [
    {
     "data": {
      "text/html": [
       "<div>\n",
       "<style scoped>\n",
       "    .dataframe tbody tr th:only-of-type {\n",
       "        vertical-align: middle;\n",
       "    }\n",
       "\n",
       "    .dataframe tbody tr th {\n",
       "        vertical-align: top;\n",
       "    }\n",
       "\n",
       "    .dataframe thead th {\n",
       "        text-align: right;\n",
       "    }\n",
       "</style>\n",
       "<table border=\"1\" class=\"dataframe\">\n",
       "  <thead>\n",
       "    <tr style=\"text-align: right;\">\n",
       "      <th></th>\n",
       "      <th>localized_name</th>\n",
       "      <th>roles</th>\n",
       "      <th>primary_attr</th>\n",
       "      <th>attack_type</th>\n",
       "    </tr>\n",
       "  </thead>\n",
       "  <tbody>\n",
       "    <tr>\n",
       "      <th>0</th>\n",
       "      <td>Anti-Mage</td>\n",
       "      <td>[Carry, Escape, Nuker]</td>\n",
       "      <td>agi</td>\n",
       "      <td>Melee</td>\n",
       "    </tr>\n",
       "    <tr>\n",
       "      <th>1</th>\n",
       "      <td>Axe</td>\n",
       "      <td>[Initiator, Durable, Disabler, Jungler]</td>\n",
       "      <td>str</td>\n",
       "      <td>Melee</td>\n",
       "    </tr>\n",
       "    <tr>\n",
       "      <th>2</th>\n",
       "      <td>Bane</td>\n",
       "      <td>[Support, Disabler, Nuker, Durable]</td>\n",
       "      <td>int</td>\n",
       "      <td>Ranged</td>\n",
       "    </tr>\n",
       "    <tr>\n",
       "      <th>3</th>\n",
       "      <td>Bloodseeker</td>\n",
       "      <td>[Carry, Disabler, Jungler, Nuker, Initiator]</td>\n",
       "      <td>agi</td>\n",
       "      <td>Melee</td>\n",
       "    </tr>\n",
       "    <tr>\n",
       "      <th>4</th>\n",
       "      <td>Crystal Maiden</td>\n",
       "      <td>[Support, Disabler, Nuker, Jungler]</td>\n",
       "      <td>int</td>\n",
       "      <td>Ranged</td>\n",
       "    </tr>\n",
       "  </tbody>\n",
       "</table>\n",
       "</div>"
      ],
      "text/plain": [
       "   localized_name                                         roles primary_attr  \\\n",
       "0       Anti-Mage                        [Carry, Escape, Nuker]          agi   \n",
       "1             Axe       [Initiator, Durable, Disabler, Jungler]          str   \n",
       "2            Bane           [Support, Disabler, Nuker, Durable]          int   \n",
       "3     Bloodseeker  [Carry, Disabler, Jungler, Nuker, Initiator]          agi   \n",
       "4  Crystal Maiden           [Support, Disabler, Nuker, Jungler]          int   \n",
       "\n",
       "  attack_type  \n",
       "0       Melee  \n",
       "1       Melee  \n",
       "2      Ranged  \n",
       "3       Melee  \n",
       "4      Ranged  "
      ]
     },
     "execution_count": 6,
     "metadata": {},
     "output_type": "execute_result"
    }
   ],
   "source": [
    "hero_df[['localized_name','roles','primary_attr', 'attack_type']].head()"
   ]
  },
  {
   "cell_type": "code",
   "execution_count": 7,
   "metadata": {},
   "outputs": [],
   "source": [
    "hero_roles = []\n",
    "for i in range(len(hero_df)):\n",
    "    hero_roles.extend(hero_df['roles'][i])\n",
    "roles = list(dict.fromkeys(hero_roles))\n",
    "attributes = ['agi', 'str', 'int']\n",
    "attack_types = ['Melee', 'Ranged']"
   ]
  },
  {
   "cell_type": "code",
   "execution_count": 8,
   "metadata": {},
   "outputs": [],
   "source": [
    "def add_categoricals(X): \n",
    "    X_attribute = np.zeros((X.shape[0], len(attributes)))\n",
    "    X_attack_types = np.zeros((X.shape[0], len(attack_types)))\n",
    "    X_roles = np.zeros((X.shape[0], len(roles)))\n",
    "    for i in tqdm_notebook(range(X.shape[0])):\n",
    "        for j in range(116):\n",
    "            if X[i,j] == 1:\n",
    "                for item in hero_df.iloc[j]['roles']:\n",
    "                    idx = roles.index(item)\n",
    "                    X_roles[idx] += 1\n",
    "                attribute = hero_df.iloc[j]['primary_attr']\n",
    "                X_attribute[i,attributes.index(attribute)] += 1\n",
    "                attack_type = hero_df.iloc[j]['attack_type']\n",
    "                X_attack_types[i,attack_types.index(attack_type)] += 1\n",
    "    radiant_cats = np.hstack((X_roles, X_attribute, X_attack_types))\n",
    "    \n",
    "    X_attribute = np.zeros((X.shape[0], len(attributes)))\n",
    "    X_attack_types = np.zeros((X.shape[0], len(attack_types)))\n",
    "    X_roles = np.zeros((X.shape[0], len(roles)))\n",
    "    for i in tqdm_notebook(range(X.shape[0])):\n",
    "        for j in range(116):\n",
    "            if X[i,j+116] == 1:\n",
    "                for item in hero_df.iloc[j]['roles']:\n",
    "                    idx = roles.index(item)\n",
    "                    X_roles[idx] += 1\n",
    "                attribute = hero_df.iloc[j]['primary_attr']\n",
    "                X_attribute[i,attributes.index(attribute)] += 1\n",
    "                attack_type = hero_df.iloc[j]['attack_type']\n",
    "                X_attack_types[i,attack_types.index(attack_type)] += 1\n",
    "    dire_cats = np.hstack((X_roles, X_attribute, X_attack_types))\n",
    "    radiant_cats = csr_matrix(radiant_cats)\n",
    "    dire_cats = csr_matrix(dire_cats)\n",
    "    X_appended = csr_matrix(hstack((X,radiant_cats, dire_cats)))\n",
    "    \n",
    "    \n",
    "    return X_appended"
   ]
  },
  {
   "cell_type": "code",
   "execution_count": null,
   "metadata": {
    "scrolled": true
   },
   "outputs": [],
   "source": [
    "cat_X = add_categoricals(X)\n",
    "print(cat_X.shape)"
   ]
  },
  {
   "cell_type": "code",
   "execution_count": 21,
   "metadata": {
    "scrolled": true
   },
   "outputs": [],
   "source": [
    "save_data(cat_X,'X_big_cat_2')\n",
    "save_data(y,'y_big_cat')"
   ]
  }
 ],
 "metadata": {
  "kernelspec": {
   "display_name": "Python 3",
   "language": "python",
   "name": "python3"
  },
  "language_info": {
   "codemirror_mode": {
    "name": "ipython",
    "version": 3
   },
   "file_extension": ".py",
   "mimetype": "text/x-python",
   "name": "python",
   "nbconvert_exporter": "python",
   "pygments_lexer": "ipython3",
   "version": "3.6.8"
  }
 },
 "nbformat": 4,
 "nbformat_minor": 2
}
