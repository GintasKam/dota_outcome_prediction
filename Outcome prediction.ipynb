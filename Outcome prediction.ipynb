{
 "cells": [
  {
   "cell_type": "markdown",
   "metadata": {},
   "source": [
    "# Mission statement #"
   ]
  },
  {
   "cell_type": "markdown",
   "metadata": {},
   "source": [
    "Want to build a neural network predicting the outcome of a match, given the hero matchup (5 radiant heroes and 5 dire)"
   ]
  },
  {
   "cell_type": "code",
   "execution_count": 1,
   "metadata": {},
   "outputs": [],
   "source": [
    "import requests\n",
    "import pprint\n",
    "import json\n",
    "import pandas as pd\n",
    "import numpy as np"
   ]
  },
  {
   "cell_type": "markdown",
   "metadata": {},
   "source": [
    "Get the hero dictionary:"
   ]
  },
  {
   "cell_type": "code",
   "execution_count": 3,
   "metadata": {},
   "outputs": [],
   "source": [
    "h = requests.get(\"https://api.opendota.com/api/heroes\")\n",
    "heroes = json.loads(h.text)\n",
    "hero_df = pd.DataFrame(heroes)"
   ]
  },
  {
   "cell_type": "markdown",
   "metadata": {},
   "source": [
    "# Mine the required data. #"
   ]
  },
  {
   "cell_type": "markdown",
   "metadata": {},
   "source": [
    "We want to get high-mmr matches, using OpenDota API which gives a random sample of 100 recent games. Work iteratively - per every call, sort out the 100 matches, get 100 older matches and repeat."
   ]
  },
  {
   "cell_type": "code",
   "execution_count": 189,
   "metadata": {},
   "outputs": [],
   "source": [
    "def pickaxe(below_match_id = None):\n",
    "    # Pick out relevant matches from a sample of 100\n",
    "    if below_match_id == None:\n",
    "        string = 'https://api.opendota.com/api/publicMatches'\n",
    "    else:\n",
    "        string = 'https://api.opendota.com/api/publicMatches?less_than_match_id=' + below_match_id \n",
    "    a = requests.get(string)\n",
    "    A = json.loads(a.text)\n",
    "    over4k = []\n",
    "    over5k = []\n",
    "    for i in range(len(A)):\n",
    "        if A[i]['avg_mmr'] != None:\n",
    "            if A[i]['game_mode'] == 22 and A[i]['avg_mmr'] > 4000 and A[i]['avg_mmr'] < 5000:\n",
    "                over4k.append(A[i])\n",
    "            elif A[i]['game_mode'] == 2 and A[i]['avg_mmr'] > 5000:\n",
    "                over5k.append(A[i]) \n",
    "    lowest_match_id = A[-1]['match_id']\n",
    "    return over4k, over5k, lowest_match_id\n",
    "\n",
    "def picked_heroes(hero_string):\n",
    "    # Convert the string from pickaxe() to a length 120 array with 1s on picked heroes, 0 elsewhere\n",
    "    team_input = np.zeros(len(hero_df))\n",
    "    y = [int(i) for i in hero_string.split(',')]\n",
    "    for item in y:\n",
    "        idx = int(hero_df[hero_df['id'] == item].index[0])\n",
    "        team_input[idx] += 1\n",
    "    return team_input\n",
    "\n",
    "def process_the_pickaxe(game_list):\n",
    "    Xt = np.zeros(232)\n",
    "    yt = np.array(0)\n",
    "    for item in game_list:\n",
    "        X = np.hstack((picked_heroes(item['radiant_team']), picked_heroes(item['dire_team'])))\n",
    "        y = np.array(0)\n",
    "        y += item['radiant_win']*1\n",
    "        Xt = np.vstack((Xt,X))\n",
    "        yt = np.vstack((yt,y))\n",
    "    Xt = np.delete(Xt, 0, 0)\n",
    "    yt = np.delete(yt, 0, 0)\n",
    "    return Xt, yt"
   ]
  },
  {
   "cell_type": "markdown",
   "metadata": {},
   "source": [
    "#### Playground:####"
   ]
  },
  {
   "cell_type": "code",
   "execution_count": 190,
   "metadata": {},
   "outputs": [],
   "source": [
    "game_list = pickaxe()[0]\n",
    "a,b = process_the_pickaxe(game_list)"
   ]
  },
  {
   "cell_type": "code",
   "execution_count": 191,
   "metadata": {},
   "outputs": [
    {
     "data": {
      "text/plain": [
       "(10, 232)"
      ]
     },
     "execution_count": 191,
     "metadata": {},
     "output_type": "execute_result"
    }
   ],
   "source": [
    "a.shape"
   ]
  },
  {
   "cell_type": "code",
   "execution_count": 192,
   "metadata": {},
   "outputs": [
    {
     "data": {
      "text/plain": [
       "(10, 1)"
      ]
     },
     "execution_count": 192,
     "metadata": {},
     "output_type": "execute_result"
    }
   ],
   "source": [
    "b.shape"
   ]
  },
  {
   "cell_type": "code",
   "execution_count": 150,
   "metadata": {},
   "outputs": [
    {
     "data": {
      "text/plain": [
       "(8, 232)"
      ]
     },
     "execution_count": 150,
     "metadata": {},
     "output_type": "execute_result"
    }
   ],
   "source": [
    "a.shape"
   ]
  },
  {
   "cell_type": "code",
   "execution_count": 156,
   "metadata": {},
   "outputs": [
    {
     "data": {
      "text/plain": [
       "array([0., 0., 0., 0., 0., 0., 0., 0.])"
      ]
     },
     "execution_count": 156,
     "metadata": {},
     "output_type": "execute_result"
    }
   ],
   "source": [
    "a.T[0]"
   ]
  },
  {
   "cell_type": "code",
   "execution_count": null,
   "metadata": {},
   "outputs": [],
   "source": []
  },
  {
   "cell_type": "code",
   "execution_count": 72,
   "metadata": {},
   "outputs": [],
   "source": [
    "a,b,c = pickaxe()"
   ]
  },
  {
   "cell_type": "code",
   "execution_count": 73,
   "metadata": {},
   "outputs": [
    {
     "data": {
      "text/plain": [
       "8"
      ]
     },
     "execution_count": 73,
     "metadata": {},
     "output_type": "execute_result"
    }
   ],
   "source": [
    "len(a)"
   ]
  },
  {
   "cell_type": "code",
   "execution_count": 74,
   "metadata": {},
   "outputs": [
    {
     "data": {
      "text/plain": [
       "dict"
      ]
     },
     "execution_count": 74,
     "metadata": {},
     "output_type": "execute_result"
    }
   ],
   "source": [
    "type(a[0])"
   ]
  },
  {
   "cell_type": "code",
   "execution_count": 75,
   "metadata": {},
   "outputs": [
    {
     "data": {
      "text/plain": [
       "{'match_id': 4409775007,\n",
       " 'match_seq_num': 3810074777,\n",
       " 'radiant_win': False,\n",
       " 'start_time': 1549820324,\n",
       " 'duration': 1479,\n",
       " 'avg_mmr': 4758,\n",
       " 'num_mmr': 5,\n",
       " 'lobby_type': 7,\n",
       " 'game_mode': 22,\n",
       " 'avg_rank_tier': 72,\n",
       " 'num_rank_tier': 8,\n",
       " 'cluster': 133,\n",
       " 'radiant_team': '19,54,55,121,49',\n",
       " 'dire_team': '36,71,91,48,108'}"
      ]
     },
     "execution_count": 75,
     "metadata": {},
     "output_type": "execute_result"
    }
   ],
   "source": [
    "a[0]"
   ]
  },
  {
   "cell_type": "code",
   "execution_count": null,
   "metadata": {},
   "outputs": [],
   "source": []
  },
  {
   "cell_type": "code",
   "execution_count": null,
   "metadata": {},
   "outputs": [],
   "source": []
  },
  {
   "cell_type": "code",
   "execution_count": null,
   "metadata": {},
   "outputs": [],
   "source": []
  },
  {
   "cell_type": "code",
   "execution_count": null,
   "metadata": {},
   "outputs": [],
   "source": []
  },
  {
   "cell_type": "code",
   "execution_count": null,
   "metadata": {},
   "outputs": [],
   "source": []
  }
 ],
 "metadata": {
  "kernelspec": {
   "display_name": "Python 3",
   "language": "python",
   "name": "python3"
  },
  "language_info": {
   "codemirror_mode": {
    "name": "ipython",
    "version": 3
   },
   "file_extension": ".py",
   "mimetype": "text/x-python",
   "name": "python",
   "nbconvert_exporter": "python",
   "pygments_lexer": "ipython3",
   "version": "3.6.5"
  }
 },
 "nbformat": 4,
 "nbformat_minor": 2
}
