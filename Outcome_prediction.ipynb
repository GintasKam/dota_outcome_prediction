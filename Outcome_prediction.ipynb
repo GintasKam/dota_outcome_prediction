{
 "cells": [
  {
   "cell_type": "code",
   "execution_count": 1,
   "metadata": {},
   "outputs": [],
   "source": [
    "import requests\n",
    "import pprint\n",
    "import json\n",
    "import pandas as pd\n",
    "import numpy as np\n",
    "import tensorflow\n",
    "import pickle\n",
    "import matplotlib.pyplot as plt\n",
    "from math import ceil\n",
    "from sklearn.preprocessing import StandardScaler\n",
    "from sklearn.model_selection import train_test_split\n",
    "from scipy.sparse import csr_matrix, hstack"
   ]
  },
  {
   "cell_type": "markdown",
   "metadata": {},
   "source": [
    "Get the hero dictionary:"
   ]
  },
  {
   "cell_type": "code",
   "execution_count": 2,
   "metadata": {},
   "outputs": [],
   "source": [
    "h = requests.get(\"https://api.opendota.com/api/heroes\")\n",
    "hero_df = pd.DataFrame(json.loads(h.text))"
   ]
  },
  {
   "cell_type": "code",
   "execution_count": 3,
   "metadata": {},
   "outputs": [
    {
     "data": {
      "text/html": [
       "<div>\n",
       "<style scoped>\n",
       "    .dataframe tbody tr th:only-of-type {\n",
       "        vertical-align: middle;\n",
       "    }\n",
       "\n",
       "    .dataframe tbody tr th {\n",
       "        vertical-align: top;\n",
       "    }\n",
       "\n",
       "    .dataframe thead th {\n",
       "        text-align: right;\n",
       "    }\n",
       "</style>\n",
       "<table border=\"1\" class=\"dataframe\">\n",
       "  <thead>\n",
       "    <tr style=\"text-align: right;\">\n",
       "      <th></th>\n",
       "      <th>attack_type</th>\n",
       "      <th>id</th>\n",
       "      <th>legs</th>\n",
       "      <th>localized_name</th>\n",
       "      <th>name</th>\n",
       "      <th>primary_attr</th>\n",
       "      <th>roles</th>\n",
       "    </tr>\n",
       "  </thead>\n",
       "  <tbody>\n",
       "    <tr>\n",
       "      <th>0</th>\n",
       "      <td>Melee</td>\n",
       "      <td>1</td>\n",
       "      <td>2</td>\n",
       "      <td>Anti-Mage</td>\n",
       "      <td>npc_dota_hero_antimage</td>\n",
       "      <td>agi</td>\n",
       "      <td>[Carry, Escape, Nuker]</td>\n",
       "    </tr>\n",
       "    <tr>\n",
       "      <th>1</th>\n",
       "      <td>Melee</td>\n",
       "      <td>2</td>\n",
       "      <td>2</td>\n",
       "      <td>Axe</td>\n",
       "      <td>npc_dota_hero_axe</td>\n",
       "      <td>str</td>\n",
       "      <td>[Initiator, Durable, Disabler, Jungler]</td>\n",
       "    </tr>\n",
       "    <tr>\n",
       "      <th>2</th>\n",
       "      <td>Ranged</td>\n",
       "      <td>3</td>\n",
       "      <td>4</td>\n",
       "      <td>Bane</td>\n",
       "      <td>npc_dota_hero_bane</td>\n",
       "      <td>int</td>\n",
       "      <td>[Support, Disabler, Nuker, Durable]</td>\n",
       "    </tr>\n",
       "    <tr>\n",
       "      <th>3</th>\n",
       "      <td>Melee</td>\n",
       "      <td>4</td>\n",
       "      <td>2</td>\n",
       "      <td>Bloodseeker</td>\n",
       "      <td>npc_dota_hero_bloodseeker</td>\n",
       "      <td>agi</td>\n",
       "      <td>[Carry, Disabler, Jungler, Nuker, Initiator]</td>\n",
       "    </tr>\n",
       "    <tr>\n",
       "      <th>4</th>\n",
       "      <td>Ranged</td>\n",
       "      <td>5</td>\n",
       "      <td>2</td>\n",
       "      <td>Crystal Maiden</td>\n",
       "      <td>npc_dota_hero_crystal_maiden</td>\n",
       "      <td>int</td>\n",
       "      <td>[Support, Disabler, Nuker, Jungler]</td>\n",
       "    </tr>\n",
       "  </tbody>\n",
       "</table>\n",
       "</div>"
      ],
      "text/plain": [
       "  attack_type  id  legs  localized_name                          name  \\\n",
       "0       Melee   1     2       Anti-Mage        npc_dota_hero_antimage   \n",
       "1       Melee   2     2             Axe             npc_dota_hero_axe   \n",
       "2      Ranged   3     4            Bane            npc_dota_hero_bane   \n",
       "3       Melee   4     2     Bloodseeker     npc_dota_hero_bloodseeker   \n",
       "4      Ranged   5     2  Crystal Maiden  npc_dota_hero_crystal_maiden   \n",
       "\n",
       "  primary_attr                                         roles  \n",
       "0          agi                        [Carry, Escape, Nuker]  \n",
       "1          str       [Initiator, Durable, Disabler, Jungler]  \n",
       "2          int           [Support, Disabler, Nuker, Durable]  \n",
       "3          agi  [Carry, Disabler, Jungler, Nuker, Initiator]  \n",
       "4          int           [Support, Disabler, Nuker, Jungler]  "
      ]
     },
     "execution_count": 3,
     "metadata": {},
     "output_type": "execute_result"
    }
   ],
   "source": [
    "hero_df.head()"
   ]
  },
  {
   "cell_type": "markdown",
   "metadata": {},
   "source": [
    "# Useful functions #"
   ]
  },
  {
   "cell_type": "code",
   "execution_count": 26,
   "metadata": {},
   "outputs": [],
   "source": [
    "def import_the_data():\n",
    "    infile = open('X_big_cat_2','rb')\n",
    "    X = pickle.load(infile)\n",
    "    infile.close()\n",
    "    infile = open('y_big_cat','rb')\n",
    "    y = pickle.load(infile)\n",
    "    infile.close()\n",
    "    return X,y\n",
    "\n",
    "def string_to_array(radiant,dire):\n",
    "    X = np.zeros(232)\n",
    "    for item in radiant:\n",
    "        idx = hero_df[hero_df['localized_name']==item].index[0]\n",
    "        X[idx] += 1\n",
    "    for item in dire:\n",
    "        idx = hero_df[hero_df['localized_name']==item].index[0] + 116\n",
    "        X[idx] +=1\n",
    "    return X\n",
    "\n",
    "def combine_two_files(X1,X2,y1,y2):\n",
    "    X = np.vstack((X1,X2))\n",
    "    y = np.vstack((y1,y2))\n",
    "    return X,y\n",
    "\n",
    "def validation_plots():\n",
    "    plt.figure(figsize = (14,8))\n",
    "    plt.subplot(1,2,1)\n",
    "    plt.plot(history.history['acc'])\n",
    "    plt.plot(history.history['val_acc'])\n",
    "    plt.title('model accuracy')\n",
    "    plt.ylabel('accuracy')\n",
    "    plt.xlabel('epoch')\n",
    "    plt.legend(['train', 'validation'], loc='upper left')\n",
    "    \n",
    "    plt.subplot(1,2,2)\n",
    "    plt.plot(history.history['loss'])\n",
    "    plt.plot(history.history['val_loss'])\n",
    "    plt.title('model loss')\n",
    "    plt.ylabel('accuracy')\n",
    "    plt.xlabel('epoch')\n",
    "    plt.legend(['train', 'validation'], loc='upper left')"
   ]
  },
  {
   "cell_type": "code",
   "execution_count": 5,
   "metadata": {},
   "outputs": [
    {
     "name": "stdout",
     "output_type": "stream",
     "text": [
      " X_train shape: (106720, 260) \n",
      " X_test shape: (13341, 260) \n",
      " X_val shape: (13340, 260)\n"
     ]
    }
   ],
   "source": [
    "X,y = import_the_data()\n",
    "X_train, X_test, y_train, y_test = train_test_split(X,y, test_size = 0.2)\n",
    "X_val, X_test, y_val, y_test = train_test_split(X_test, y_test, test_size = 0.5)\n",
    "print(' X_train shape:', X_train.shape, '\\n', 'X_test shape:', X_test.shape, '\\n', 'X_val shape:', X_val.shape)"
   ]
  },
  {
   "cell_type": "markdown",
   "metadata": {},
   "source": [
    "We have a lot of data, so a neural network makes sense; however, a relatively low number of features (260) suggests that gradient boosting might do well. Let's try both, after fitting logistic regression as a baseline."
   ]
  },
  {
   "cell_type": "markdown",
   "metadata": {},
   "source": [
    "# Logistic regression #"
   ]
  },
  {
   "cell_type": "code",
   "execution_count": 6,
   "metadata": {},
   "outputs": [
    {
     "name": "stderr",
     "output_type": "stream",
     "text": [
      "C:\\Users\\Gintas\\Anaconda3\\envs\\tensorflow\\lib\\site-packages\\sklearn\\utils\\validation.py:761: DataConversionWarning: A column-vector y was passed when a 1d array was expected. Please change the shape of y to (n_samples, ), for example using ravel().\n",
      "  y = column_or_1d(y, warn=True)\n",
      "C:\\Users\\Gintas\\Anaconda3\\envs\\tensorflow\\lib\\site-packages\\sklearn\\model_selection\\_split.py:2053: FutureWarning: You should specify a value for 'cv' instead of relying on the default value. The default value will change from 3 to 5 in version 0.22.\n",
      "  warnings.warn(CV_WARNING, FutureWarning)\n",
      "C:\\Users\\Gintas\\Anaconda3\\envs\\tensorflow\\lib\\site-packages\\sklearn\\linear_model\\logistic.py:758: ConvergenceWarning: lbfgs failed to converge. Increase the number of iterations.\n",
      "  \"of iterations.\", ConvergenceWarning)\n"
     ]
    },
    {
     "name": "stdout",
     "output_type": "stream",
     "text": [
      "Testing score: 0.5677235589536017\n",
      "Training score: 0.5645520989505247\n"
     ]
    }
   ],
   "source": [
    "from sklearn.linear_model import LogisticRegressionCV\n",
    "\n",
    "Cs = np.logspace(-3,4,10)\n",
    "lr = LogisticRegressionCV(Cs=Cs)\n",
    "lr.fit(X_train,y_train)\n",
    "print('Testing score:', lr.score(X_test,y_test))\n",
    "print('Training score:', lr.score(X_train,y_train))"
   ]
  },
  {
   "cell_type": "markdown",
   "metadata": {},
   "source": [
    "# Neural network #"
   ]
  },
  {
   "cell_type": "markdown",
   "metadata": {},
   "source": [
    "Now, what kind of architecture should be used here?\n",
    "\n",
    "The simple, sparse input form means the network is very prone to overfitting (though the input is mostly zeroes, theres over 1e13 combinations of 1s to distribute there, each of these 1e13 corresponding to a wildly different set of hero choices and hence a different game) given the network a lot of hidden nodes. There's two ways to go around this - either limit the number of neurons, or introduce some extreme regularisation (dropout around 0.5). Turns out, a larger network with regularisation outperforms a small one by 1-2%."
   ]
  },
  {
   "cell_type": "code",
   "execution_count": 7,
   "metadata": {},
   "outputs": [],
   "source": [
    "from sklearn.model_selection import train_test_split\n",
    "from tensorflow.keras.models import Sequential\n",
    "from tensorflow.keras.layers import Dense, Dropout, BatchNormalization\n",
    "from tensorflow.keras.callbacks import EarlyStopping"
   ]
  },
  {
   "cell_type": "code",
   "execution_count": 30,
   "metadata": {},
   "outputs": [
    {
     "name": "stdout",
     "output_type": "stream",
     "text": [
      "_________________________________________________________________\n",
      "Layer (type)                 Output Shape              Param #   \n",
      "=================================================================\n",
      "dense_3 (Dense)              (None, 256)               66816     \n",
      "_________________________________________________________________\n",
      "dropout_2 (Dropout)          (None, 256)               0         \n",
      "_________________________________________________________________\n",
      "batch_normalization_2 (Batch (None, 256)               1024      \n",
      "_________________________________________________________________\n",
      "dense_4 (Dense)              (None, 64)                16448     \n",
      "_________________________________________________________________\n",
      "dropout_3 (Dropout)          (None, 64)                0         \n",
      "_________________________________________________________________\n",
      "batch_normalization_3 (Batch (None, 64)                256       \n",
      "_________________________________________________________________\n",
      "dense_5 (Dense)              (None, 1)                 65        \n",
      "=================================================================\n",
      "Total params: 84,609\n",
      "Trainable params: 83,969\n",
      "Non-trainable params: 640\n",
      "_________________________________________________________________\n",
      "Train on 106720 samples, validate on 13340 samples\n",
      "Epoch 1/20\n",
      "106720/106720 [==============================] - 25s 237us/step - loss: 0.6903 - acc: 0.5513 - val_loss: 0.6700 - val_acc: 0.5896\n",
      "Epoch 2/20\n",
      "106720/106720 [==============================] - 25s 235us/step - loss: 0.6785 - acc: 0.5706 - val_loss: 0.6718 - val_acc: 0.5828\n",
      "Epoch 3/20\n",
      "106720/106720 [==============================] - 25s 235us/step - loss: 0.6776 - acc: 0.5724 - val_loss: 0.6695 - val_acc: 0.5909\n",
      "Epoch 4/20\n",
      "106720/106720 [==============================] - 25s 233us/step - loss: 0.6770 - acc: 0.5736 - val_loss: 0.6695 - val_acc: 0.5908\n",
      "Epoch 5/20\n",
      "106720/106720 [==============================] - 25s 232us/step - loss: 0.6760 - acc: 0.5771 - val_loss: 0.6688 - val_acc: 0.5922\n",
      "Epoch 6/20\n",
      "106720/106720 [==============================] - 25s 235us/step - loss: 0.6762 - acc: 0.5764 - val_loss: 0.6690 - val_acc: 0.5933\n",
      "Epoch 7/20\n",
      "106720/106720 [==============================] - 25s 230us/step - loss: 0.6755 - acc: 0.5775 - val_loss: 0.6694 - val_acc: 0.5937\n",
      "Epoch 8/20\n",
      "106720/106720 [==============================] - 24s 229us/step - loss: 0.6758 - acc: 0.5760 - val_loss: 0.6684 - val_acc: 0.5948\n",
      "Epoch 9/20\n",
      "106720/106720 [==============================] - 25s 230us/step - loss: 0.6751 - acc: 0.5773 - val_loss: 0.6680 - val_acc: 0.5963\n",
      "Epoch 10/20\n",
      "106720/106720 [==============================] - 24s 228us/step - loss: 0.6753 - acc: 0.5765 - val_loss: 0.6684 - val_acc: 0.5936\n",
      "Epoch 11/20\n",
      "106720/106720 [==============================] - 24s 228us/step - loss: 0.6751 - acc: 0.5772 - val_loss: 0.6680 - val_acc: 0.5953\n",
      "Epoch 12/20\n",
      "106720/106720 [==============================] - 25s 230us/step - loss: 0.6746 - acc: 0.5801 - val_loss: 0.6679 - val_acc: 0.5911\n",
      "Epoch 13/20\n",
      "106720/106720 [==============================] - 25s 232us/step - loss: 0.6741 - acc: 0.5820 - val_loss: 0.6683 - val_acc: 0.5951\n",
      "Epoch 14/20\n",
      "106720/106720 [==============================] - 24s 229us/step - loss: 0.6747 - acc: 0.5786 - val_loss: 0.6686 - val_acc: 0.5946\n",
      "Epoch 15/20\n",
      "106720/106720 [==============================] - 25s 231us/step - loss: 0.6744 - acc: 0.5802 - val_loss: 0.6685 - val_acc: 0.5920\n",
      "Epoch 16/20\n",
      "106720/106720 [==============================] - 25s 233us/step - loss: 0.6749 - acc: 0.5786 - val_loss: 0.6688 - val_acc: 0.5945\n"
     ]
    }
   ],
   "source": [
    "model = Sequential([\n",
    "    Dense(256, activation = 'tanh', input_dim = X.shape[1]), \n",
    "    Dropout(0.5),\n",
    "    BatchNormalization(),\n",
    "    Dense(64, activation = 'tanh'),\n",
    "    Dropout(0.5),\n",
    "    BatchNormalization(),\n",
    "    Dense(1, activation = 'sigmoid')\n",
    "])\n",
    "callback = EarlyStopping(monitor = 'val_loss', patience = 4)\n",
    "model.compile(optimizer = 'adam', loss = 'binary_crossentropy', metrics = ['accuracy'])\n",
    "model.summary()\n",
    "history = model.fit(X_train,y_train, \n",
    "                              validation_data = (X_val,y_val),\n",
    "                              batch_size = 10,\n",
    "                              epochs=20,\n",
    "                              shuffle = True,\n",
    "                              callbacks = [callback])"
   ]
  },
  {
   "cell_type": "code",
   "execution_count": 31,
   "metadata": {},
   "outputs": [
    {
     "data": {
      "image/png": "[encoded data removed]",
      "text/plain": [
       "<Figure size 1008x576 with 2 Axes>"
      ]
     },
     "metadata": {
      "needs_background": "light"
     },
     "output_type": "display_data"
    }
   ],
   "source": [
    "validation_plots()"
   ]
  },
  {
   "cell_type": "code",
   "execution_count": 32,
   "metadata": {},
   "outputs": [
    {
     "name": "stdout",
     "output_type": "stream",
     "text": [
      "13341/13341 [==============================] - 0s 26us/step\n",
      "Accuracy on the test set: 0.5938085600645518\n"
     ]
    }
   ],
   "source": [
    "print('Accuracy on the test set:', model.evaluate(X_test,y_test)[1])"
   ]
  },
  {
   "cell_type": "markdown",
   "metadata": {},
   "source": [
    "## Gradient Boosting Machine (not tuned)##"
   ]
  },
  {
   "cell_type": "code",
   "execution_count": 29,
   "metadata": {},
   "outputs": [
    {
     "name": "stderr",
     "output_type": "stream",
     "text": [
      "C:\\Users\\Gintas\\Anaconda3\\envs\\tensorflow\\lib\\site-packages\\sklearn\\utils\\validation.py:761: DataConversionWarning: A column-vector y was passed when a 1d array was expected. Please change the shape of y to (n_samples, ), for example using ravel().\n",
      "  y = column_or_1d(y, warn=True)\n"
     ]
    },
    {
     "name": "stdout",
     "output_type": "stream",
     "text": [
      "Testing score: 0.5804662319166479\n",
      "Training score: 0.581718515742129\n"
     ]
    }
   ],
   "source": [
    "from sklearn.ensemble import GradientBoostingClassifier\n",
    "gbm = GradientBoostingClassifier()\n",
    "gbm.fit(X_train,y_train)\n",
    "print('Testing score:', gbm.score(X_test,y_test))\n",
    "print('Training score:', gbm.score(X_train,y_train))"
   ]
  },
  {
   "cell_type": "markdown",
   "metadata": {},
   "source": [
    "# Next steps"
   ]
  },
  {
   "cell_type": "markdown",
   "metadata": {},
   "source": [
    "Ways to improve the accuracy:\n",
    "\n",
    "-  Features: emphasise popular / high winrate heroes by building features to show what the hero is paired with\n",
    "-  Tune GBM hyperparameters to build an equally competitive model, then do ensembling\n",
    "-  Mess around with the NN architecture"
   ]
  }
 ],
 "metadata": {
  "kernelspec": {
   "display_name": "Python 3",
   "language": "python",
   "name": "python3"
  },
  "language_info": {
   "codemirror_mode": {
    "name": "ipython",
    "version": 3
   },
   "file_extension": ".py",
   "mimetype": "text/x-python",
   "name": "python",
   "nbconvert_exporter": "python",
   "pygments_lexer": "ipython3",
   "version": "3.6.8"
  }
 },
 "nbformat": 4,
 "nbformat_minor": 2
}
