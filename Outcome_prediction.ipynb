{
 "cells": [
  {
   "cell_type": "markdown",
   "metadata": {},
   "source": [
    "# Mission statement #"
   ]
  },
  {
   "cell_type": "markdown",
   "metadata": {},
   "source": [
    "Want to build a neural network predicting the outcome of a match, given the hero matchup (5 radiant heroes and 5 dire)"
   ]
  },
  {
   "cell_type": "code",
   "execution_count": 1,
   "metadata": {},
   "outputs": [],
   "source": [
    "import requests\n",
    "import pprint\n",
    "import json\n",
    "import pandas as pd\n",
    "import numpy as np\n",
    "import tensorflow\n",
    "from tensorflow import keras"
   ]
  },
  {
   "cell_type": "markdown",
   "metadata": {},
   "source": [
    "Get the hero dictionary:"
   ]
  },
  {
   "cell_type": "code",
   "execution_count": 2,
   "metadata": {},
   "outputs": [],
   "source": [
    "h = requests.get(\"https://api.opendota.com/api/heroes\")\n",
    "heroes = json.loads(h.text)\n",
    "hero_df = pd.DataFrame(heroes)"
   ]
  },
  {
   "cell_type": "markdown",
   "metadata": {},
   "source": [
    "# Mine the required data. #"
   ]
  },
  {
   "cell_type": "markdown",
   "metadata": {},
   "source": [
    "We want to get high-mmr matches, using OpenDota API which gives a random sample of 100 recent games. Work iteratively - per every call, sort out the 100 matches, get 100 older matches and repeat."
   ]
  },
  {
   "cell_type": "code",
   "execution_count": 3,
   "metadata": {},
   "outputs": [],
   "source": [
    "def pickaxe(below_match_id = None):\n",
    "    \n",
    "    # Pick out relevant matches from a sample of 100\n",
    "    \n",
    "    if below_match_id == None:\n",
    "        string = 'https://api.opendota.com/api/publicMatches'\n",
    "    else:\n",
    "        string = 'https://api.opendota.com/api/publicMatches?less_than_match_id=' + str(below_match_id)\n",
    "    a = requests.get(string)\n",
    "    A = json.loads(a.text)\n",
    "    over4k = []\n",
    "    over5k = []\n",
    "    for i in range(len(A)):\n",
    "        if A[i]['avg_mmr'] is not None:\n",
    "            if A[i]['game_mode'] == 22 and A[i]['avg_mmr'] > 4000 and A[i]['avg_mmr'] < 5000:\n",
    "                over4k.append(A[i])\n",
    "            elif A[i]['game_mode'] == 2 and A[i]['avg_mmr'] > 5000:\n",
    "                over5k.append(A[i]) \n",
    "    lowest_match_id = A[-1]['match_id']\n",
    "    return over4k, over5k, lowest_match_id\n",
    "\n",
    "def picked_heroes(hero_string):\n",
    "    \n",
    "    # Convert the string from pickaxe() to a length 116 array with 1s on picked heroes, 0 elsewhere.\n",
    "    \n",
    "    team_input = np.zeros(len(hero_df))\n",
    "    y = [int(i) for i in hero_string.split(',')]\n",
    "    for item in y:\n",
    "        idx = int(hero_df[hero_df['id'] == item].index[0])\n",
    "        team_input[idx] += 1\n",
    "    return team_input\n",
    "\n",
    "def process_the_pickaxe(game_list):\n",
    "    Xt = np.zeros(232)\n",
    "    yt = np.array(0)\n",
    "    for item in game_list:\n",
    "        X = np.hstack((picked_heroes(item['radiant_team']), picked_heroes(item['dire_team'])))\n",
    "        y = np.array(0)\n",
    "        y += item['radiant_win']*1\n",
    "        Xt = np.vstack((Xt,X))\n",
    "        yt = np.vstack((yt,y))\n",
    "    Xt = np.delete(Xt, 0, 0)\n",
    "    yt = np.delete(yt, 0, 0)\n",
    "    if Xt.shape == (231,):\n",
    "        Xt = None\n",
    "        yt = None\n",
    "    return Xt, yt\n",
    "\n",
    "def single_call(last_match_id = None):\n",
    "    \n",
    "    # Perform a call for 100 matches and process it.\n",
    "    \n",
    "    if last_match_id == None:\n",
    "        a,b,c = pickaxe()\n",
    "    else:\n",
    "        a,b,c = pickaxe(last_match_id)\n",
    "    X_4, y_4 = process_the_pickaxe(a)\n",
    "    X_5, y_5 = process_the_pickaxe(b)\n",
    "    return X_4, y_4, X_5, y_5, c\n",
    "\n",
    "def multiple_calls(call_number = 60, last_match_id = None):\n",
    "    Total_X_4 = np.zeros(232)\n",
    "    Total_X_5 = np.zeros(232)\n",
    "    Total_y_4 = np.array(0)\n",
    "    Total_y_5 = np.array(0)\n",
    "    for i in range(call_number):\n",
    "        X_4, y_4, X_5, y_5, last_match_id = single_call(last_match_id = last_match_id)\n",
    "        if X_4 is not None:\n",
    "            Total_X_4 = np.vstack((Total_X_4, X_4))\n",
    "            Total_y_4 = np.vstack((Total_y_4, y_4))\n",
    "        if X_5 is not None:\n",
    "            Total_X_5 = np.vstack((Total_X_5, X_5))\n",
    "            Total_y_5 = np.vstack((Total_y_5, y_5))\n",
    "            continue\n",
    "    Total_X_4 = np.delete(Total_X_4, 0, 0)\n",
    "    Total_X_5 = np.delete(Total_X_5, 0, 0)\n",
    "    Total_y_4 = np.delete(Total_y_4, 0, 0)\n",
    "    Total_y_5 = np.delete(Total_y_5, 0, 0)\n",
    "    return Total_X_4, Total_y_4, Total_X_5, Total_y_5, last_match_id"
   ]
  },
  {
   "cell_type": "markdown",
   "metadata": {},
   "source": [
    "# Neural network #"
   ]
  },
  {
   "cell_type": "code",
   "execution_count": 4,
   "metadata": {},
   "outputs": [],
   "source": [
    "from tensorflow.keras.models import Sequential\n",
    "from tensorflow.keras.layers import Dense"
   ]
  },
  {
   "cell_type": "code",
   "execution_count": 10,
   "metadata": {},
   "outputs": [
    {
     "name": "stdout",
     "output_type": "stream",
     "text": [
      "_________________________________________________________________\n",
      "Layer (type)                 Output Shape              Param #   \n",
      "=================================================================\n",
      "dense_3 (Dense)              (None, 100)               23300     \n",
      "_________________________________________________________________\n",
      "dense_4 (Dense)              (None, 50)                5050      \n",
      "_________________________________________________________________\n",
      "dense_5 (Dense)              (None, 1)                 51        \n",
      "=================================================================\n",
      "Total params: 28,401\n",
      "Trainable params: 28,401\n",
      "Non-trainable params: 0\n",
      "_________________________________________________________________\n",
      "Epoch 1/5\n",
      "361/361 [==============================] - 0s 1ms/step - loss: 7.6400 - acc: 0.5208\n",
      "Epoch 2/5\n",
      "361/361 [==============================] - 0s 105us/step - loss: 7.6400 - acc: 0.5208\n",
      "Epoch 3/5\n",
      "361/361 [==============================] - 0s 103us/step - loss: 7.6400 - acc: 0.5208\n",
      "Epoch 4/5\n",
      "361/361 [==============================] - 0s 108us/step - loss: 7.6400 - acc: 0.5208\n",
      "Epoch 5/5\n",
      "361/361 [==============================] - 0s 105us/step - loss: 7.6400 - acc: 0.5208\n"
     ]
    },
    {
     "data": {
      "text/plain": [
       "<tensorflow.python.keras.callbacks.History at 0x20dfb55cef0>"
      ]
     },
     "execution_count": 10,
     "metadata": {},
     "output_type": "execute_result"
    }
   ],
   "source": [
    "model = Sequential()\n",
    "model.add(Dense(100, input_dim = 232, activation = 'relu'))\n",
    "model.add(Dense(50, activation = 'relu'))\n",
    "model.add(Dense(1, activation = 'softmax'))\n",
    "model.compile(optimizer = 'adam', loss = 'binary_crossentropy', metrics = ['accuracy'])\n",
    "model.summary()\n",
    "model.fit(X_train,y_train,batch_size = 10, epochs=5)"
   ]
  },
  {
   "cell_type": "code",
   "execution_count": 44,
   "metadata": {},
   "outputs": [],
   "source": []
  },
  {
   "cell_type": "code",
   "execution_count": 48,
   "metadata": {},
   "outputs": [],
   "source": []
  },
  {
   "cell_type": "code",
   "execution_count": 50,
   "metadata": {},
   "outputs": [],
   "source": []
  },
  {
   "cell_type": "code",
   "execution_count": 56,
   "metadata": {},
   "outputs": [],
   "source": []
  },
  {
   "cell_type": "code",
   "execution_count": 63,
   "metadata": {},
   "outputs": [
    {
     "name": "stdout",
     "output_type": "stream",
     "text": [
      "Epoch 1/20\n",
      "421/421 [==============================] - 0s 43us/step - loss: 6.9677 - acc: 0.5629\n",
      "Epoch 2/20\n",
      "421/421 [==============================] - 0s 38us/step - loss: 6.9677 - acc: 0.5629\n",
      "Epoch 3/20\n",
      "421/421 [==============================] - 0s 40us/step - loss: 6.9677 - acc: 0.5629\n",
      "Epoch 4/20\n",
      "421/421 [==============================] - 0s 43us/step - loss: 6.9677 - acc: 0.5629\n",
      "Epoch 5/20\n",
      "421/421 [==============================] - 0s 40us/step - loss: 6.9677 - acc: 0.5629\n",
      "Epoch 6/20\n",
      "421/421 [==============================] - 0s 38us/step - loss: 6.9677 - acc: 0.5629\n",
      "Epoch 7/20\n",
      "421/421 [==============================] - 0s 38us/step - loss: 6.9677 - acc: 0.5629\n",
      "Epoch 8/20\n",
      "421/421 [==============================] - 0s 40us/step - loss: 6.9677 - acc: 0.5629\n",
      "Epoch 9/20\n",
      "421/421 [==============================] - 0s 43us/step - loss: 6.9677 - acc: 0.5629\n",
      "Epoch 10/20\n",
      "421/421 [==============================] - 0s 38us/step - loss: 6.9677 - acc: 0.5629\n",
      "Epoch 11/20\n",
      "421/421 [==============================] - 0s 40us/step - loss: 6.9677 - acc: 0.5629\n",
      "Epoch 12/20\n",
      "421/421 [==============================] - 0s 43us/step - loss: 6.9677 - acc: 0.5629\n",
      "Epoch 13/20\n",
      "421/421 [==============================] - 0s 40us/step - loss: 6.9677 - acc: 0.5629\n",
      "Epoch 14/20\n",
      "421/421 [==============================] - 0s 40us/step - loss: 6.9677 - acc: 0.5629\n",
      "Epoch 15/20\n",
      "421/421 [==============================] - 0s 43us/step - loss: 6.9677 - acc: 0.5629\n",
      "Epoch 16/20\n",
      "421/421 [==============================] - 0s 43us/step - loss: 6.9677 - acc: 0.5629\n",
      "Epoch 17/20\n",
      "421/421 [==============================] - 0s 43us/step - loss: 6.9677 - acc: 0.5629\n",
      "Epoch 18/20\n",
      "421/421 [==============================] - 0s 38us/step - loss: 6.9677 - acc: 0.5629\n",
      "Epoch 19/20\n",
      "421/421 [==============================] - 0s 43us/step - loss: 6.9677 - acc: 0.5629\n",
      "Epoch 20/20\n",
      "421/421 [==============================] - 0s 40us/step - loss: 6.9677 - acc: 0.5629\n"
     ]
    },
    {
     "data": {
      "text/plain": [
       "<tensorflow.python.keras.callbacks.History at 0x205010bb978>"
      ]
     },
     "execution_count": 63,
     "metadata": {},
     "output_type": "execute_result"
    }
   ],
   "source": []
  },
  {
   "cell_type": "code",
   "execution_count": 58,
   "metadata": {},
   "outputs": [
    {
     "data": {
      "text/plain": [
       "(421, 232)"
      ]
     },
     "execution_count": 58,
     "metadata": {},
     "output_type": "execute_result"
    }
   ],
   "source": [
    "y_train.shape"
   ]
  },
  {
   "cell_type": "code",
   "execution_count": 59,
   "metadata": {},
   "outputs": [
    {
     "data": {
      "text/plain": [
       "(421, 232)"
      ]
     },
     "execution_count": 59,
     "metadata": {},
     "output_type": "execute_result"
    }
   ],
   "source": [
    "X_train.shape"
   ]
  },
  {
   "cell_type": "code",
   "execution_count": null,
   "metadata": {},
   "outputs": [],
   "source": []
  },
  {
   "cell_type": "code",
   "execution_count": null,
   "metadata": {},
   "outputs": [],
   "source": []
  },
  {
   "cell_type": "code",
   "execution_count": null,
   "metadata": {},
   "outputs": [],
   "source": []
  },
  {
   "cell_type": "code",
   "execution_count": null,
   "metadata": {},
   "outputs": [],
   "source": []
  },
  {
   "cell_type": "code",
   "execution_count": null,
   "metadata": {},
   "outputs": [],
   "source": []
  },
  {
   "cell_type": "code",
   "execution_count": null,
   "metadata": {},
   "outputs": [],
   "source": []
  },
  {
   "cell_type": "code",
   "execution_count": null,
   "metadata": {},
   "outputs": [],
   "source": []
  },
  {
   "cell_type": "code",
   "execution_count": null,
   "metadata": {},
   "outputs": [],
   "source": []
  },
  {
   "cell_type": "code",
   "execution_count": null,
   "metadata": {},
   "outputs": [],
   "source": []
  },
  {
   "cell_type": "code",
   "execution_count": null,
   "metadata": {},
   "outputs": [],
   "source": []
  },
  {
   "cell_type": "code",
   "execution_count": null,
   "metadata": {},
   "outputs": [],
   "source": []
  },
  {
   "cell_type": "markdown",
   "metadata": {},
   "source": [
    "#### Playground:####"
   ]
  },
  {
   "cell_type": "code",
   "execution_count": 6,
   "metadata": {},
   "outputs": [
    {
     "name": "stderr",
     "output_type": "stream",
     "text": [
      "C:\\Users\\Gintas\\Anaconda3\\envs\\tensorflow\\lib\\site-packages\\ipykernel_launcher.py:43: DeprecationWarning: in the future the special handling of scalars will be removed from delete and raise an error\n",
      "C:\\Users\\Gintas\\Anaconda3\\envs\\tensorflow\\lib\\site-packages\\ipykernel_launcher.py:78: DeprecationWarning: in the future the special handling of scalars will be removed from delete and raise an error\n"
     ]
    }
   ],
   "source": [
    "X4, y4, X5, y5, _ = multiple_calls()"
   ]
  },
  {
   "cell_type": "code",
   "execution_count": 7,
   "metadata": {},
   "outputs": [
    {
     "name": "stdout",
     "output_type": "stream",
     "text": [
      "(411, 232) (411, 1) (231,) ()\n"
     ]
    }
   ],
   "source": [
    "print(X4.shape, y4.shape, X5.shape, y5.shape)"
   ]
  },
  {
   "cell_type": "code",
   "execution_count": 11,
   "metadata": {},
   "outputs": [],
   "source": [
    "a,b,c = pickaxe()"
   ]
  },
  {
   "cell_type": "code",
   "execution_count": 53,
   "metadata": {},
   "outputs": [
    {
     "data": {
      "text/plain": [
       "(100, 232)"
      ]
     },
     "execution_count": 53,
     "metadata": {},
     "output_type": "execute_result"
    }
   ],
   "source": [
    "X4[:100].shape"
   ]
  },
  {
   "cell_type": "code",
   "execution_count": 13,
   "metadata": {},
   "outputs": [
    {
     "data": {
      "text/plain": [
       "0"
      ]
     },
     "execution_count": 13,
     "metadata": {},
     "output_type": "execute_result"
    }
   ],
   "source": [
    "len(b)"
   ]
  },
  {
   "cell_type": "code",
   "execution_count": 8,
   "metadata": {},
   "outputs": [],
   "source": [
    "def final_processing(X,y, N=50):\n",
    "    X_test = X[:N]\n",
    "    y_test = y[:N]\n",
    "    X_train = X[N:]\n",
    "    y_train = y[N:]\n",
    "    return X_train, y_train, X_test, y_test"
   ]
  },
  {
   "cell_type": "code",
   "execution_count": 9,
   "metadata": {},
   "outputs": [],
   "source": [
    "X_train, y_train, X_test, y_test = final_processing(X4,y4)"
   ]
  },
  {
   "cell_type": "code",
   "execution_count": 70,
   "metadata": {},
   "outputs": [],
   "source": [
    "from sklearn.ensemble import RandomForestClassifier"
   ]
  },
  {
   "cell_type": "code",
   "execution_count": 71,
   "metadata": {},
   "outputs": [],
   "source": [
    "rf = RandomForestClassifier()"
   ]
  },
  {
   "cell_type": "code",
   "execution_count": 72,
   "metadata": {},
   "outputs": [
    {
     "name": "stderr",
     "output_type": "stream",
     "text": [
      "C:\\Users\\Gintas\\Anaconda3\\envs\\tensorflow\\lib\\site-packages\\sklearn\\ensemble\\forest.py:246: FutureWarning: The default value of n_estimators will change from 10 in version 0.20 to 100 in 0.22.\n",
      "  \"10 in version 0.20 to 100 in 0.22.\", FutureWarning)\n",
      "C:\\Users\\Gintas\\Anaconda3\\envs\\tensorflow\\lib\\site-packages\\ipykernel_launcher.py:1: DataConversionWarning: A column-vector y was passed when a 1d array was expected. Please change the shape of y to (n_samples,), for example using ravel().\n",
      "  \"\"\"Entry point for launching an IPython kernel.\n"
     ]
    },
    {
     "data": {
      "text/plain": [
       "RandomForestClassifier(bootstrap=True, class_weight=None, criterion='gini',\n",
       "            max_depth=None, max_features='auto', max_leaf_nodes=None,\n",
       "            min_impurity_decrease=0.0, min_impurity_split=None,\n",
       "            min_samples_leaf=1, min_samples_split=2,\n",
       "            min_weight_fraction_leaf=0.0, n_estimators=10, n_jobs=None,\n",
       "            oob_score=False, random_state=None, verbose=0,\n",
       "            warm_start=False)"
      ]
     },
     "execution_count": 72,
     "metadata": {},
     "output_type": "execute_result"
    }
   ],
   "source": [
    "rf.fit(X_train,y_train)"
   ]
  },
  {
   "cell_type": "code",
   "execution_count": 73,
   "metadata": {},
   "outputs": [
    {
     "data": {
      "text/plain": [
       "0.46"
      ]
     },
     "execution_count": 73,
     "metadata": {},
     "output_type": "execute_result"
    }
   ],
   "source": [
    "rf.score(X_test,y_test)"
   ]
  },
  {
   "cell_type": "code",
   "execution_count": 74,
   "metadata": {},
   "outputs": [],
   "source": [
    "from sklearn.linear_model import LogisticRegression"
   ]
  },
  {
   "cell_type": "code",
   "execution_count": 81,
   "metadata": {},
   "outputs": [],
   "source": [
    "lr = LogisticRegression()"
   ]
  },
  {
   "cell_type": "code",
   "execution_count": 82,
   "metadata": {},
   "outputs": [
    {
     "name": "stderr",
     "output_type": "stream",
     "text": [
      "C:\\Users\\Gintas\\Anaconda3\\envs\\tensorflow\\lib\\site-packages\\sklearn\\linear_model\\logistic.py:433: FutureWarning: Default solver will be changed to 'lbfgs' in 0.22. Specify a solver to silence this warning.\n",
      "  FutureWarning)\n",
      "C:\\Users\\Gintas\\Anaconda3\\envs\\tensorflow\\lib\\site-packages\\sklearn\\utils\\validation.py:761: DataConversionWarning: A column-vector y was passed when a 1d array was expected. Please change the shape of y to (n_samples, ), for example using ravel().\n",
      "  y = column_or_1d(y, warn=True)\n"
     ]
    },
    {
     "data": {
      "text/plain": [
       "LogisticRegression(C=1.0, class_weight=None, dual=False, fit_intercept=True,\n",
       "          intercept_scaling=1, max_iter=100, multi_class='warn',\n",
       "          n_jobs=None, penalty='l2', random_state=None, solver='warn',\n",
       "          tol=0.0001, verbose=0, warm_start=False)"
      ]
     },
     "execution_count": 82,
     "metadata": {},
     "output_type": "execute_result"
    }
   ],
   "source": [
    "lr.fit(X_train,y_train)"
   ]
  },
  {
   "cell_type": "code",
   "execution_count": 83,
   "metadata": {},
   "outputs": [
    {
     "data": {
      "text/plain": [
       "0.6"
      ]
     },
     "execution_count": 83,
     "metadata": {},
     "output_type": "execute_result"
    }
   ],
   "source": [
    "lr.score(X_test,y_test)"
   ]
  },
  {
   "cell_type": "code",
   "execution_count": null,
   "metadata": {},
   "outputs": [],
   "source": []
  }
 ],
 "metadata": {
  "kernelspec": {
   "display_name": "Python 3",
   "language": "python",
   "name": "python3"
  },
  "language_info": {
   "codemirror_mode": {
    "name": "ipython",
    "version": 3
   },
   "file_extension": ".py",
   "mimetype": "text/x-python",
   "name": "python",
   "nbconvert_exporter": "python",
   "pygments_lexer": "ipython3",
   "version": "3.6.8"
  }
 },
 "nbformat": 4,
 "nbformat_minor": 2
}
