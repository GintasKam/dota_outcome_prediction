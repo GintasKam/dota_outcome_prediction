{
 "cells": [
  {
   "cell_type": "markdown",
   "metadata": {},
   "source": [
    "# Mission statement #"
   ]
  },
  {
   "cell_type": "markdown",
   "metadata": {},
   "source": [
    "Want to build a neural network predicting the outcome of a match, given the hero matchup (5 radiant heroes and 5 dire)"
   ]
  },
  {
   "cell_type": "code",
   "execution_count": 1,
   "metadata": {},
   "outputs": [],
   "source": [
    "import requests\n",
    "import pprint\n",
    "import json\n",
    "import pandas as pd\n",
    "import numpy as np"
   ]
  },
  {
   "cell_type": "markdown",
   "metadata": {},
   "source": [
    "Get the hero dictionary:"
   ]
  },
  {
   "cell_type": "code",
   "execution_count": 2,
   "metadata": {},
   "outputs": [],
   "source": [
    "h = requests.get(\"https://api.opendota.com/api/heroes\")\n",
    "heroes = json.loads(h.text)\n",
    "hero_df = pd.DataFrame(heroes)"
   ]
  },
  {
   "cell_type": "markdown",
   "metadata": {},
   "source": [
    "# Mine the required data. #"
   ]
  },
  {
   "cell_type": "markdown",
   "metadata": {},
   "source": [
    "We want to get high-mmr matches, using OpenDota API which gives a random sample of 100 recent games. Work iteratively - per every call, sort out the 100 matches, get 100 older matches and repeat."
   ]
  },
  {
   "cell_type": "code",
   "execution_count": 76,
   "metadata": {},
   "outputs": [],
   "source": [
    "def pickaxe(below_match_id = None):\n",
    "    \n",
    "    # Pick out relevant matches from a sample of 100\n",
    "    \n",
    "    if below_match_id == None:\n",
    "        string = 'https://api.opendota.com/api/publicMatches'\n",
    "    else:\n",
    "        string = 'https://api.opendota.com/api/publicMatches?less_than_match_id=' + str(below_match_id)\n",
    "    a = requests.get(string)\n",
    "    A = json.loads(a.text)\n",
    "    over4k = []\n",
    "    over5k = []\n",
    "    for i in range(len(A)):\n",
    "        if A[i]['avg_mmr'] is not None:\n",
    "            if A[i]['game_mode'] == 22 and A[i]['avg_mmr'] > 4000 and A[i]['avg_mmr'] < 5000:\n",
    "                over4k.append(A[i])\n",
    "            elif A[i]['game_mode'] == 2 and A[i]['avg_mmr'] > 5000:\n",
    "                over5k.append(A[i]) \n",
    "    lowest_match_id = A[-1]['match_id']\n",
    "    return over4k, over5k, lowest_match_id\n",
    "\n",
    "def picked_heroes(hero_string):\n",
    "    \n",
    "    # Convert the string from pickaxe() to a length 116 array with 1s on picked heroes, 0 elsewhere.\n",
    "    \n",
    "    team_input = np.zeros(len(hero_df))\n",
    "    y = [int(i) for i in hero_string.split(',')]\n",
    "    for item in y:\n",
    "        idx = int(hero_df[hero_df['id'] == item].index[0])\n",
    "        team_input[idx] += 1\n",
    "    return team_input\n",
    "\n",
    "def process_the_pickaxe(game_list):\n",
    "    Xt = np.zeros(232)\n",
    "    yt = np.array(0)\n",
    "    for item in game_list:\n",
    "        X = np.hstack((picked_heroes(item['radiant_team']), picked_heroes(item['dire_team'])))\n",
    "        y = np.array(0)\n",
    "        y += item['radiant_win']*1\n",
    "        Xt = np.vstack((Xt,X))\n",
    "        yt = np.vstack((yt,y))\n",
    "    Xt = np.delete(Xt, 0, 0)\n",
    "    yt = np.delete(yt, 0, 0)\n",
    "    if Xt.shape == (231,):\n",
    "        Xt = None\n",
    "        yt = None\n",
    "    return Xt, yt\n",
    "\n",
    "def single_call(last_match_id = None):\n",
    "    \n",
    "    # Perform a call for 100 matches and process it.\n",
    "    \n",
    "    if last_match_id == None:\n",
    "        a,b,c = pickaxe()\n",
    "    else:\n",
    "        a,b,c = pickaxe(last_match_id)\n",
    "    X_4, y_4 = process_the_pickaxe(a)\n",
    "    X_5, y_5 = process_the_pickaxe(b)\n",
    "    return X_4, y_4, X_5, y_5, c\n",
    "\n",
    "def multiple_calls(call_number = 60, last_match_id = None):\n",
    "    Total_X_4 = np.zeros(232)\n",
    "    Total_X_5 = np.zeros(232)\n",
    "    Total_y_4 = np.array(0)\n",
    "    Total_y_5 = np.array(0)\n",
    "    for i in range(call_number):\n",
    "        X_4, y_4, X_5, y_5, last_match_id = single_call(last_match_id = last_match_id)\n",
    "        if X_4 is not None:\n",
    "            Total_X_4 = np.vstack((Total_X_4, X_4))\n",
    "            Total_y_4 = np.vstack((Total_y_4, y_4))\n",
    "        if X_5 is not None:\n",
    "            Total_X_5 = np.vstack((Total_X_5, X_5))\n",
    "            Total_y_5 = np.vstack((Total_y_5, y_5))\n",
    "            continue\n",
    "    Total_X_4 = np.delete(Total_X_4, 0, 0)\n",
    "    Total_X_5 = np.delete(Total_X_5, 0, 0)\n",
    "    Total_y_4 = np.delete(Total_y_4, 0, 0)\n",
    "    Total_y_5 = np.delete(Total_y_5, 0, 0)\n",
    "    return Total_X_4, Total_y_4, Total_X_5, Total_y_5, last_match_id"
   ]
  },
  {
   "cell_type": "markdown",
   "metadata": {},
   "source": [
    "#### Playground:####"
   ]
  },
  {
   "cell_type": "code",
   "execution_count": 74,
   "metadata": {},
   "outputs": [
    {
     "name": "stderr",
     "output_type": "stream",
     "text": [
      "c:\\users\\gintas\\appdata\\local\\programs\\python\\python37\\lib\\site-packages\\ipykernel_launcher.py:43: DeprecationWarning: in the future the special handling of scalars will be removed from delete and raise an error\n",
      "c:\\users\\gintas\\appdata\\local\\programs\\python\\python37\\lib\\site-packages\\ipykernel_launcher.py:78: DeprecationWarning: in the future the special handling of scalars will be removed from delete and raise an error\n"
     ]
    }
   ],
   "source": [
    "X4, y4, X5, y5, _ = multiple_calls()"
   ]
  },
  {
   "cell_type": "code",
   "execution_count": 75,
   "metadata": {},
   "outputs": [
    {
     "name": "stdout",
     "output_type": "stream",
     "text": [
      "(524, 232) (524, 1) (231,) ()\n"
     ]
    }
   ],
   "source": [
    "print(X4.shape, y4.shape, X5.shape, y5.shape)"
   ]
  },
  {
   "cell_type": "code",
   "execution_count": 28,
   "metadata": {},
   "outputs": [
    {
     "data": {
      "text/plain": [
       "(231,)"
      ]
     },
     "execution_count": 28,
     "metadata": {},
     "output_type": "execute_result"
    }
   ],
   "source": [
    "Xt = np.zeros(232)\n",
    "Xt = np.delete(Xt, 0, 0)\n",
    "Xt.shape"
   ]
  },
  {
   "cell_type": "code",
   "execution_count": 77,
   "metadata": {},
   "outputs": [
    {
     "ename": "ModuleNotFoundError",
     "evalue": "No module named 'tensorflow'",
     "output_type": "error",
     "traceback": [
      "\u001b[1;31m---------------------------------------------------------------------------\u001b[0m",
      "\u001b[1;31mModuleNotFoundError\u001b[0m                       Traceback (most recent call last)",
      "\u001b[1;32m<ipython-input-77-a95cdad765f0>\u001b[0m in \u001b[0;36m<module>\u001b[1;34m\u001b[0m\n\u001b[1;32m----> 1\u001b[1;33m \u001b[1;32mfrom\u001b[0m \u001b[0mtensorflow\u001b[0m \u001b[1;32mimport\u001b[0m \u001b[0mkeras\u001b[0m\u001b[1;33m\u001b[0m\u001b[0m\n\u001b[0m",
      "\u001b[1;31mModuleNotFoundError\u001b[0m: No module named 'tensorflow'"
     ]
    }
   ],
   "source": [
    "from tensorflow import keras"
   ]
  },
  {
   "cell_type": "code",
   "execution_count": 78,
   "metadata": {},
   "outputs": [
    {
     "ename": "ModuleNotFoundError",
     "evalue": "No module named 'tensorflow'",
     "output_type": "error",
     "traceback": [
      "\u001b[1;31m---------------------------------------------------------------------------\u001b[0m",
      "\u001b[1;31mModuleNotFoundError\u001b[0m                       Traceback (most recent call last)",
      "\u001b[1;32m<ipython-input-78-d6579f534729>\u001b[0m in \u001b[0;36m<module>\u001b[1;34m\u001b[0m\n\u001b[1;32m----> 1\u001b[1;33m \u001b[1;32mimport\u001b[0m \u001b[0mtensorflow\u001b[0m\u001b[1;33m\u001b[0m\u001b[0m\n\u001b[0m",
      "\u001b[1;31mModuleNotFoundError\u001b[0m: No module named 'tensorflow'"
     ]
    }
   ],
   "source": [
    "import tensorflow"
   ]
  },
  {
   "cell_type": "code",
   "execution_count": null,
   "metadata": {},
   "outputs": [],
   "source": []
  },
  {
   "cell_type": "code",
   "execution_count": null,
   "metadata": {},
   "outputs": [],
   "source": []
  },
  {
   "cell_type": "code",
   "execution_count": null,
   "metadata": {},
   "outputs": [],
   "source": []
  },
  {
   "cell_type": "code",
   "execution_count": null,
   "metadata": {},
   "outputs": [],
   "source": []
  }
 ],
 "metadata": {
  "kernelspec": {
   "display_name": "Python 3",
   "language": "python",
   "name": "python3"
  },
  "language_info": {
   "codemirror_mode": {
    "name": "ipython",
    "version": 3
   },
   "file_extension": ".py",
   "mimetype": "text/x-python",
   "name": "python",
   "nbconvert_exporter": "python",
   "pygments_lexer": "ipython3",
   "version": "3.7.0"
  }
 },
 "nbformat": 4,
 "nbformat_minor": 2
}
