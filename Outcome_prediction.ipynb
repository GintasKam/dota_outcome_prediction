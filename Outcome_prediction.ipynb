{
 "cells": [
  {
   "cell_type": "markdown",
   "metadata": {},
   "source": [
    "# Mission statement #"
   ]
  },
  {
   "cell_type": "markdown",
   "metadata": {},
   "source": [
    "Want to build a neural network predicting the outcome of a match, given the hero matchup (5 radiant heroes and 5 dire)"
   ]
  },
  {
   "cell_type": "code",
   "execution_count": 1,
   "metadata": {},
   "outputs": [],
   "source": [
    "import requests\n",
    "import pprint\n",
    "import json\n",
    "import pandas as pd\n",
    "import numpy as np\n",
    "import tensorflow\n",
    "import pickle\n",
    "import matplotlib.pyplot as plt\n",
    "from math import ceil\n",
    "from sklearn.preprocessing import StandardScaler\n",
    "from sklearn.model_selection import train_test_split\n",
    "from scipy.sparse import csr_matrix, hstack"
   ]
  },
  {
   "cell_type": "markdown",
   "metadata": {},
   "source": [
    "Get the hero dictionary:"
   ]
  },
  {
   "cell_type": "code",
   "execution_count": 2,
   "metadata": {},
   "outputs": [],
   "source": [
    "h = requests.get(\"https://api.opendota.com/api/heroes\")\n",
    "hero_df = pd.DataFrame(json.loads(h.text))"
   ]
  },
  {
   "cell_type": "code",
   "execution_count": 3,
   "metadata": {},
   "outputs": [
    {
     "data": {
      "text/html": [
       "<div>\n",
       "<style scoped>\n",
       "    .dataframe tbody tr th:only-of-type {\n",
       "        vertical-align: middle;\n",
       "    }\n",
       "\n",
       "    .dataframe tbody tr th {\n",
       "        vertical-align: top;\n",
       "    }\n",
       "\n",
       "    .dataframe thead th {\n",
       "        text-align: right;\n",
       "    }\n",
       "</style>\n",
       "<table border=\"1\" class=\"dataframe\">\n",
       "  <thead>\n",
       "    <tr style=\"text-align: right;\">\n",
       "      <th></th>\n",
       "      <th>attack_type</th>\n",
       "      <th>id</th>\n",
       "      <th>legs</th>\n",
       "      <th>localized_name</th>\n",
       "      <th>name</th>\n",
       "      <th>primary_attr</th>\n",
       "      <th>roles</th>\n",
       "    </tr>\n",
       "  </thead>\n",
       "  <tbody>\n",
       "    <tr>\n",
       "      <th>0</th>\n",
       "      <td>Melee</td>\n",
       "      <td>1</td>\n",
       "      <td>2</td>\n",
       "      <td>Anti-Mage</td>\n",
       "      <td>npc_dota_hero_antimage</td>\n",
       "      <td>agi</td>\n",
       "      <td>[Carry, Escape, Nuker]</td>\n",
       "    </tr>\n",
       "    <tr>\n",
       "      <th>1</th>\n",
       "      <td>Melee</td>\n",
       "      <td>2</td>\n",
       "      <td>2</td>\n",
       "      <td>Axe</td>\n",
       "      <td>npc_dota_hero_axe</td>\n",
       "      <td>str</td>\n",
       "      <td>[Initiator, Durable, Disabler, Jungler]</td>\n",
       "    </tr>\n",
       "    <tr>\n",
       "      <th>2</th>\n",
       "      <td>Ranged</td>\n",
       "      <td>3</td>\n",
       "      <td>4</td>\n",
       "      <td>Bane</td>\n",
       "      <td>npc_dota_hero_bane</td>\n",
       "      <td>int</td>\n",
       "      <td>[Support, Disabler, Nuker, Durable]</td>\n",
       "    </tr>\n",
       "    <tr>\n",
       "      <th>3</th>\n",
       "      <td>Melee</td>\n",
       "      <td>4</td>\n",
       "      <td>2</td>\n",
       "      <td>Bloodseeker</td>\n",
       "      <td>npc_dota_hero_bloodseeker</td>\n",
       "      <td>agi</td>\n",
       "      <td>[Carry, Disabler, Jungler, Nuker, Initiator]</td>\n",
       "    </tr>\n",
       "    <tr>\n",
       "      <th>4</th>\n",
       "      <td>Ranged</td>\n",
       "      <td>5</td>\n",
       "      <td>2</td>\n",
       "      <td>Crystal Maiden</td>\n",
       "      <td>npc_dota_hero_crystal_maiden</td>\n",
       "      <td>int</td>\n",
       "      <td>[Support, Disabler, Nuker, Jungler]</td>\n",
       "    </tr>\n",
       "  </tbody>\n",
       "</table>\n",
       "</div>"
      ],
      "text/plain": [
       "  attack_type  id  legs  localized_name                          name  \\\n",
       "0       Melee   1     2       Anti-Mage        npc_dota_hero_antimage   \n",
       "1       Melee   2     2             Axe             npc_dota_hero_axe   \n",
       "2      Ranged   3     4            Bane            npc_dota_hero_bane   \n",
       "3       Melee   4     2     Bloodseeker     npc_dota_hero_bloodseeker   \n",
       "4      Ranged   5     2  Crystal Maiden  npc_dota_hero_crystal_maiden   \n",
       "\n",
       "  primary_attr                                         roles  \n",
       "0          agi                        [Carry, Escape, Nuker]  \n",
       "1          str       [Initiator, Durable, Disabler, Jungler]  \n",
       "2          int           [Support, Disabler, Nuker, Durable]  \n",
       "3          agi  [Carry, Disabler, Jungler, Nuker, Initiator]  \n",
       "4          int           [Support, Disabler, Nuker, Jungler]  "
      ]
     },
     "execution_count": 3,
     "metadata": {},
     "output_type": "execute_result"
    }
   ],
   "source": [
    "hero_df.head()"
   ]
  },
  {
   "cell_type": "markdown",
   "metadata": {},
   "source": [
    "# Useful functions #"
   ]
  },
  {
   "cell_type": "code",
   "execution_count": 4,
   "metadata": {},
   "outputs": [],
   "source": [
    "def import_the_data():\n",
    "    infile = open('X_big_cat_2','rb')\n",
    "    X = pickle.load(infile)\n",
    "    infile.close()\n",
    "    infile = open('y_big_cat','rb')\n",
    "    y = pickle.load(infile)\n",
    "    infile.close()\n",
    "    return X,y\n",
    "\n",
    "def string_to_array(radiant,dire):\n",
    "    X = np.zeros(232)\n",
    "    for item in radiant:\n",
    "        idx = hero_df[hero_df['localized_name']==item].index[0]\n",
    "        X[idx] += 1\n",
    "    for item in dire:\n",
    "        idx = hero_df[hero_df['localized_name']==item].index[0] + 116\n",
    "        X[idx] +=1\n",
    "    return X\n",
    "\n",
    "def combine_two_files(X1,X2,y1,y2):\n",
    "    X = np.vstack((X1,X2))\n",
    "    y = np.vstack((y1,y2))\n",
    "    return X,y"
   ]
  },
  {
   "cell_type": "code",
   "execution_count": 5,
   "metadata": {},
   "outputs": [
    {
     "name": "stdout",
     "output_type": "stream",
     "text": [
      " X_train shape: (106720, 260) \n",
      " X_test shape: (13341, 260) \n",
      " X_val shape: (13340, 260)\n"
     ]
    }
   ],
   "source": [
    "X,y = import_the_data()\n",
    "X_train, X_test, y_train, y_test = train_test_split(X,y, test_size = 0.2)\n",
    "X_val, X_test, y_val, y_test = train_test_split(X_test, y_test, test_size = 0.5)\n",
    "print(' X_train shape:', X_train.shape, '\\n', 'X_test shape:', X_test.shape, '\\n', 'X_val shape:', X_val.shape)"
   ]
  },
  {
   "cell_type": "markdown",
   "metadata": {},
   "source": [
    "We have a lot of data, so a neural network makes sense; however, a relatively low number of features (260) suggests that gradient boosting might do well. Let's try both, after fitting logistic regression as a baseline."
   ]
  },
  {
   "cell_type": "markdown",
   "metadata": {},
   "source": [
    "# Logistic regression #"
   ]
  },
  {
   "cell_type": "code",
   "execution_count": 6,
   "metadata": {},
   "outputs": [
    {
     "name": "stderr",
     "output_type": "stream",
     "text": [
      "C:\\Users\\Gintas\\Anaconda3\\envs\\tensorflow\\lib\\site-packages\\sklearn\\utils\\validation.py:761: DataConversionWarning: A column-vector y was passed when a 1d array was expected. Please change the shape of y to (n_samples, ), for example using ravel().\n",
      "  y = column_or_1d(y, warn=True)\n",
      "C:\\Users\\Gintas\\Anaconda3\\envs\\tensorflow\\lib\\site-packages\\sklearn\\model_selection\\_split.py:2053: FutureWarning: You should specify a value for 'cv' instead of relying on the default value. The default value will change from 3 to 5 in version 0.22.\n",
      "  warnings.warn(CV_WARNING, FutureWarning)\n",
      "C:\\Users\\Gintas\\Anaconda3\\envs\\tensorflow\\lib\\site-packages\\sklearn\\linear_model\\logistic.py:758: ConvergenceWarning: lbfgs failed to converge. Increase the number of iterations.\n",
      "  \"of iterations.\", ConvergenceWarning)\n"
     ]
    },
    {
     "name": "stdout",
     "output_type": "stream",
     "text": [
      "Testing score: 0.5811408440146916\n",
      "Training score: 0.5827586206896552\n"
     ]
    }
   ],
   "source": [
    "from sklearn.linear_model import LogisticRegressionCV\n",
    "\n",
    "Cs = np.logspace(-3,4,10)\n",
    "lr = LogisticRegressionCV(Cs=Cs)\n",
    "lr.fit(X_train,y_train)\n",
    "print('Testing score:', lr.score(X_test,y_test))\n",
    "print('Training score:', lr.score(X_train,y_train))"
   ]
  },
  {
   "cell_type": "markdown",
   "metadata": {},
   "source": [
    "# Neural network #"
   ]
  },
  {
   "cell_type": "markdown",
   "metadata": {},
   "source": [
    "Now, what kind of architecture should be used here?\n",
    "\n",
    "The simple, sparse input form means the network is very prone to overfitting (though the input is mostly zeroes, theres over 1e13 combinations of 1s to distribute there, each of these 1e13 corresponding to a wildly different set of hero choices and hence a different game) given the network a lot of hidden nodes. There's two ways to go around this - either limit the number of neurons, or introduce some extreme regularisation (dropout around 0.5). We'll try both and add them to the ensemble."
   ]
  },
  {
   "cell_type": "code",
   "execution_count": 7,
   "metadata": {},
   "outputs": [],
   "source": [
    "from sklearn.model_selection import train_test_split\n",
    "from tensorflow.keras.models import Sequential\n",
    "from tensorflow.keras.layers import Dense, Dropout, BatchNormalization\n",
    "from tensorflow.keras.callbacks import EarlyStopping"
   ]
  },
  {
   "cell_type": "code",
   "execution_count": 34,
   "metadata": {},
   "outputs": [
    {
     "name": "stdout",
     "output_type": "stream",
     "text": [
      "_________________________________________________________________\n",
      "Layer (type)                 Output Shape              Param #   \n",
      "=================================================================\n",
      "dense_21 (Dense)             (None, 128)               33408     \n",
      "_________________________________________________________________\n",
      "dropout_10 (Dropout)         (None, 128)               0         \n",
      "_________________________________________________________________\n",
      "batch_normalization_10 (Batc (None, 128)               512       \n",
      "_________________________________________________________________\n",
      "dense_22 (Dense)             (None, 64)                8256      \n",
      "_________________________________________________________________\n",
      "dropout_11 (Dropout)         (None, 64)                0         \n",
      "_________________________________________________________________\n",
      "batch_normalization_11 (Batc (None, 64)                256       \n",
      "_________________________________________________________________\n",
      "dense_23 (Dense)             (None, 1)                 65        \n",
      "=================================================================\n",
      "Total params: 42,497\n",
      "Trainable params: 42,113\n",
      "Non-trainable params: 384\n",
      "_________________________________________________________________\n",
      "Train on 106720 samples, validate on 13340 samples\n",
      "Epoch 1/20\n",
      "106720/106720 [==============================] - 26s 242us/step - loss: 0.6920 - acc: 0.5524 - val_loss: 0.6737 - val_acc: 0.5838\n",
      "Epoch 2/20\n",
      "106720/106720 [==============================] - 25s 230us/step - loss: 0.6786 - acc: 0.5692 - val_loss: 0.6730 - val_acc: 0.5806\n",
      "Epoch 3/20\n",
      "106720/106720 [==============================] - 24s 225us/step - loss: 0.6771 - acc: 0.5751 - val_loss: 0.6726 - val_acc: 0.5831\n",
      "Epoch 4/20\n",
      "106720/106720 [==============================] - 24s 228us/step - loss: 0.6769 - acc: 0.5750 - val_loss: 0.6744 - val_acc: 0.5864\n",
      "Epoch 5/20\n",
      "106720/106720 [==============================] - 25s 230us/step - loss: 0.6759 - acc: 0.5763 - val_loss: 0.6715 - val_acc: 0.5868\n",
      "Epoch 6/20\n",
      "106720/106720 [==============================] - 24s 227us/step - loss: 0.6755 - acc: 0.5768 - val_loss: 0.6710 - val_acc: 0.5849\n",
      "Epoch 7/20\n",
      "106720/106720 [==============================] - 24s 228us/step - loss: 0.6750 - acc: 0.5789 - val_loss: 0.6764 - val_acc: 0.5843\n",
      "Epoch 8/20\n",
      "106720/106720 [==============================] - 24s 226us/step - loss: 0.6750 - acc: 0.5784 - val_loss: 0.6713 - val_acc: 0.5851\n",
      "Epoch 9/20\n",
      "106720/106720 [==============================] - 24s 228us/step - loss: 0.6750 - acc: 0.5774 - val_loss: 0.6706 - val_acc: 0.5864\n",
      "Epoch 10/20\n",
      "106720/106720 [==============================] - 24s 227us/step - loss: 0.6742 - acc: 0.5798 - val_loss: 0.6726 - val_acc: 0.5888\n",
      "Epoch 11/20\n",
      "106720/106720 [==============================] - 24s 228us/step - loss: 0.6742 - acc: 0.5805 - val_loss: 0.6714 - val_acc: 0.5880\n",
      "Epoch 12/20\n",
      "106720/106720 [==============================] - 24s 227us/step - loss: 0.6745 - acc: 0.5804 - val_loss: 0.6714 - val_acc: 0.5845\n",
      "Epoch 13/20\n",
      "106720/106720 [==============================] - 24s 228us/step - loss: 0.6743 - acc: 0.5808 - val_loss: 0.6704 - val_acc: 0.5900\n",
      "Epoch 14/20\n",
      "106720/106720 [==============================] - 24s 225us/step - loss: 0.6736 - acc: 0.5827 - val_loss: 0.6710 - val_acc: 0.5874\n",
      "Epoch 15/20\n",
      "106720/106720 [==============================] - 24s 227us/step - loss: 0.6737 - acc: 0.5816 - val_loss: 0.6712 - val_acc: 0.5894\n",
      "Epoch 16/20\n",
      "106720/106720 [==============================] - 24s 229us/step - loss: 0.6737 - acc: 0.5808 - val_loss: 0.6711 - val_acc: 0.5891\n",
      "Epoch 17/20\n",
      "106720/106720 [==============================] - 24s 229us/step - loss: 0.6734 - acc: 0.5826 - val_loss: 0.6721 - val_acc: 0.5850\n"
     ]
    }
   ],
   "source": [
    "model = Sequential([\n",
    "    Dense(128, activation = 'tanh', input_dim = X.shape[1]), \n",
    "    Dropout(0.5),\n",
    "    BatchNormalization(),\n",
    "    Dense(64, activation = 'tanh'),\n",
    "    Dropout(0.5),\n",
    "    BatchNormalization(),\n",
    "    Dense(1, activation = 'sigmoid')\n",
    "])\n",
    "\n",
    "callback = EarlyStopping(monitor = 'val_loss', patience = 3)\n",
    "model.compile(optimizer = 'adam', loss = 'binary_crossentropy', metrics = ['accuracy'])\n",
    "model.summary()\n",
    "history = model2.fit(X_train,y_train, \n",
    "                              validation_data = (X_val,y_val),\n",
    "                              batch_size = 10,\n",
    "                              epochs=20,\n",
    "                              shuffle = True,\n",
    "                              callbacks = [callback])"
   ]
  },
  {
   "cell_type": "code",
   "execution_count": 35,
   "metadata": {},
   "outputs": [
    {
     "data": {
      "image/png": "[encoded data removed]",
      "text/plain": [
       "<Figure size 864x576 with 1 Axes>"
      ]
     },
     "metadata": {
      "needs_background": "light"
     },
     "output_type": "display_data"
    },
    {
     "name": "stdout",
     "output_type": "stream",
     "text": [
      "13341/13341 [==============================] - 0s 29us/step\n",
      "Accuracy on the test set: 0.5884116632399928\n"
     ]
    }
   ],
   "source": [
    "plt.figure(figsize = (12,8))\n",
    "plt.plot(history.history['acc'])\n",
    "plt.plot(history.history['val_acc'])\n",
    "plt.title('model accuracy')\n",
    "plt.ylabel('accuracy')\n",
    "plt.xlabel('epoch')\n",
    "plt.legend(['train', 'validation'], loc='upper left')\n",
    "plt.show()\n",
    "\n",
    "print('Accuracy on the test set:', model.evaluate(X_test,y_test)[1])"
   ]
  },
  {
   "cell_type": "markdown",
   "metadata": {},
   "source": [
    "## Random Forest Classifier ##"
   ]
  },
  {
   "cell_type": "code",
   "execution_count": 19,
   "metadata": {},
   "outputs": [
    {
     "name": "stderr",
     "output_type": "stream",
     "text": [
      "C:\\Users\\Gintas\\Anaconda3\\envs\\tensorflow\\lib\\site-packages\\sklearn\\ensemble\\forest.py:246: FutureWarning: The default value of n_estimators will change from 10 in version 0.20 to 100 in 0.22.\n",
      "  \"10 in version 0.20 to 100 in 0.22.\", FutureWarning)\n",
      "C:\\Users\\Gintas\\Anaconda3\\envs\\tensorflow\\lib\\site-packages\\ipykernel_launcher.py:3: DataConversionWarning: A column-vector y was passed when a 1d array was expected. Please change the shape of y to (n_samples,), for example using ravel().\n",
      "  This is separate from the ipykernel package so we can avoid doing imports until\n"
     ]
    },
    {
     "name": "stdout",
     "output_type": "stream",
     "text": [
      "Testing score: 0.5358668765459861\n",
      "Training score: 0.9875468515742128\n"
     ]
    }
   ],
   "source": [
    "from sklearn.ensemble import RandomForestClassifier\n",
    "rf = RandomForestClassifier()\n",
    "rf.fit(X_train,y_train)\n",
    "print('Testing score:', rf.score(X_test,y_test))\n",
    "print('Training score:', rf.score(X_train,y_train))"
   ]
  },
  {
   "cell_type": "markdown",
   "metadata": {},
   "source": [
    "## Gradient Boosting Machine (not tuned)##"
   ]
  },
  {
   "cell_type": "code",
   "execution_count": 46,
   "metadata": {},
   "outputs": [
    {
     "name": "stdout",
     "output_type": "stream",
     "text": [
      "Testing score: 0.5737201109362117\n",
      "Training score: 0.5832083958020989\n"
     ]
    }
   ],
   "source": [
    "from sklearn.ensemble import GradientBoostingClassifier\n",
    "gbm = GradientBoostingClassifier()\n",
    "gbm.fit(X_train,y_train)\n",
    "print('Testing score:', gbm.score(X_test,y_test))\n",
    "print('Training score:', gbm.score(X_train,y_train))"
   ]
  },
  {
   "cell_type": "markdown",
   "metadata": {},
   "source": [
    "# Ensembling #"
   ]
  },
  {
   "cell_type": "code",
   "execution_count": 44,
   "metadata": {},
   "outputs": [],
   "source": [
    "from statistics import mode"
   ]
  },
  {
   "cell_type": "code",
   "execution_count": 45,
   "metadata": {},
   "outputs": [
    {
     "name": "stdout",
     "output_type": "stream",
     "text": [
      "Accuracy of the ensemble: 0.5791170077205606\n"
     ]
    }
   ],
   "source": [
    "model1 = model  # Neural network - 58.9\n",
    "model2 = gbm  # 57.4\n",
    "model3 = lr  # 58.1\n",
    "\n",
    "pred1 = model1.predict_classes(X_test)\n",
    "pred2 = model2.predict(X_test)\n",
    "pred3 = model3.predict(X_test)\n",
    "\n",
    "final_pred = np.array([])\n",
    "for i in range(0,X_test.shape[0]):\n",
    "    final_pred = np.append(final_pred, mode([pred1[i][0], pred2[i], pred3[i]]))\n",
    "    \n",
    "final_pred = final_pred.reshape((-1,1))\n",
    "idx = (final_pred == y_test)*1\n",
    "accuracy = sum(idx) / X_test.shape[0]\n",
    "\n",
    "print('Accuracy of the ensemble:', accuracy[0])"
   ]
  },
  {
   "cell_type": "markdown",
   "metadata": {},
   "source": [
    "# Next steps"
   ]
  },
  {
   "cell_type": "markdown",
   "metadata": {},
   "source": [
    "Ways to improve the accuracy:\n",
    "\n",
    "-  Features: emphasise popular / high winrate heroes by building features to show what the hero is paired with\n",
    "-  Tune GBM hyperparameters to build an equally competitive model, then do ensembling\n",
    "-  Mess around with the NN architecture"
   ]
  }
 ],
 "metadata": {
  "kernelspec": {
   "display_name": "Python 3",
   "language": "python",
   "name": "python3"
  },
  "language_info": {
   "codemirror_mode": {
    "name": "ipython",
    "version": 3
   },
   "file_extension": ".py",
   "mimetype": "text/x-python",
   "name": "python",
   "nbconvert_exporter": "python",
   "pygments_lexer": "ipython3",
   "version": "3.6.8"
  }
 },
 "nbformat": 4,
 "nbformat_minor": 2
}
