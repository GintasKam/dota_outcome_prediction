{
 "cells": [
  {
   "cell_type": "code",
   "execution_count": 1,
   "metadata": {},
   "outputs": [],
   "source": [
    "import requests\n",
    "import pprint\n",
    "import json\n",
    "import pandas as pd\n",
    "import numpy as np\n",
    "import tensorflow\n",
    "import pickle\n",
    "import matplotlib.pyplot as plt\n",
    "from math import ceil\n",
    "from sklearn.preprocessing import StandardScaler\n",
    "from sklearn.model_selection import train_test_split\n",
    "from scipy.sparse import csr_matrix, hstack"
   ]
  },
  {
   "cell_type": "markdown",
   "metadata": {},
   "source": [
    "Get the hero dictionary:"
   ]
  },
  {
   "cell_type": "code",
   "execution_count": 2,
   "metadata": {},
   "outputs": [],
   "source": [
    "h = requests.get(\"https://api.opendota.com/api/heroes\")\n",
    "hero_df = pd.DataFrame(json.loads(h.text))"
   ]
  },
  {
   "cell_type": "code",
   "execution_count": 3,
   "metadata": {},
   "outputs": [
    {
     "data": {
      "text/html": [
       "<div>\n",
       "<style scoped>\n",
       "    .dataframe tbody tr th:only-of-type {\n",
       "        vertical-align: middle;\n",
       "    }\n",
       "\n",
       "    .dataframe tbody tr th {\n",
       "        vertical-align: top;\n",
       "    }\n",
       "\n",
       "    .dataframe thead th {\n",
       "        text-align: right;\n",
       "    }\n",
       "</style>\n",
       "<table border=\"1\" class=\"dataframe\">\n",
       "  <thead>\n",
       "    <tr style=\"text-align: right;\">\n",
       "      <th></th>\n",
       "      <th>attack_type</th>\n",
       "      <th>id</th>\n",
       "      <th>legs</th>\n",
       "      <th>localized_name</th>\n",
       "      <th>name</th>\n",
       "      <th>primary_attr</th>\n",
       "      <th>roles</th>\n",
       "    </tr>\n",
       "  </thead>\n",
       "  <tbody>\n",
       "    <tr>\n",
       "      <th>0</th>\n",
       "      <td>Melee</td>\n",
       "      <td>1</td>\n",
       "      <td>2</td>\n",
       "      <td>Anti-Mage</td>\n",
       "      <td>npc_dota_hero_antimage</td>\n",
       "      <td>agi</td>\n",
       "      <td>[Carry, Escape, Nuker]</td>\n",
       "    </tr>\n",
       "    <tr>\n",
       "      <th>1</th>\n",
       "      <td>Melee</td>\n",
       "      <td>2</td>\n",
       "      <td>2</td>\n",
       "      <td>Axe</td>\n",
       "      <td>npc_dota_hero_axe</td>\n",
       "      <td>str</td>\n",
       "      <td>[Initiator, Durable, Disabler, Jungler]</td>\n",
       "    </tr>\n",
       "    <tr>\n",
       "      <th>2</th>\n",
       "      <td>Ranged</td>\n",
       "      <td>3</td>\n",
       "      <td>4</td>\n",
       "      <td>Bane</td>\n",
       "      <td>npc_dota_hero_bane</td>\n",
       "      <td>int</td>\n",
       "      <td>[Support, Disabler, Nuker, Durable]</td>\n",
       "    </tr>\n",
       "    <tr>\n",
       "      <th>3</th>\n",
       "      <td>Melee</td>\n",
       "      <td>4</td>\n",
       "      <td>2</td>\n",
       "      <td>Bloodseeker</td>\n",
       "      <td>npc_dota_hero_bloodseeker</td>\n",
       "      <td>agi</td>\n",
       "      <td>[Carry, Disabler, Jungler, Nuker, Initiator]</td>\n",
       "    </tr>\n",
       "    <tr>\n",
       "      <th>4</th>\n",
       "      <td>Ranged</td>\n",
       "      <td>5</td>\n",
       "      <td>2</td>\n",
       "      <td>Crystal Maiden</td>\n",
       "      <td>npc_dota_hero_crystal_maiden</td>\n",
       "      <td>int</td>\n",
       "      <td>[Support, Disabler, Nuker, Jungler]</td>\n",
       "    </tr>\n",
       "  </tbody>\n",
       "</table>\n",
       "</div>"
      ],
      "text/plain": [
       "  attack_type  id  legs  localized_name                          name  \\\n",
       "0       Melee   1     2       Anti-Mage        npc_dota_hero_antimage   \n",
       "1       Melee   2     2             Axe             npc_dota_hero_axe   \n",
       "2      Ranged   3     4            Bane            npc_dota_hero_bane   \n",
       "3       Melee   4     2     Bloodseeker     npc_dota_hero_bloodseeker   \n",
       "4      Ranged   5     2  Crystal Maiden  npc_dota_hero_crystal_maiden   \n",
       "\n",
       "  primary_attr                                         roles  \n",
       "0          agi                        [Carry, Escape, Nuker]  \n",
       "1          str       [Initiator, Durable, Disabler, Jungler]  \n",
       "2          int           [Support, Disabler, Nuker, Durable]  \n",
       "3          agi  [Carry, Disabler, Jungler, Nuker, Initiator]  \n",
       "4          int           [Support, Disabler, Nuker, Jungler]  "
      ]
     },
     "execution_count": 3,
     "metadata": {},
     "output_type": "execute_result"
    }
   ],
   "source": [
    "hero_df.head()"
   ]
  },
  {
   "cell_type": "markdown",
   "metadata": {},
   "source": [
    "# Useful functions #"
   ]
  },
  {
   "cell_type": "code",
   "execution_count": 37,
   "metadata": {},
   "outputs": [],
   "source": [
    "def import_the_data():\n",
    "    infile = open('X_big_cat_2','rb')\n",
    "    X = pickle.load(infile)\n",
    "    infile.close()\n",
    "    infile = open('y_big_cat','rb')\n",
    "    y = pickle.load(infile)\n",
    "    infile.close()\n",
    "    return X,y\n",
    "\n",
    "def string_to_array(radiant,dire):\n",
    "    X = np.zeros(232)\n",
    "    for item in radiant:\n",
    "        idx = hero_df[hero_df['localized_name']==item].index[0]\n",
    "        X[idx] += 1\n",
    "    for item in dire:\n",
    "        idx = hero_df[hero_df['localized_name']==item].index[0] + 116\n",
    "        X[idx] +=1\n",
    "    return X\n",
    "\n",
    "def combine_two_files(X1,X2,y1,y2):\n",
    "    X = np.vstack((X1,X2))\n",
    "    y = np.vstack((y1,y2))\n",
    "    return X,y\n",
    "\n",
    "def validation_plots():\n",
    "    plt.figure(figsize = (14,8))\n",
    "    \n",
    "    plt.subplot(1,2,1)\n",
    "    plt.plot(history.history['acc'])\n",
    "    plt.plot(history.history['val_acc'])\n",
    "    plt.title('model accuracy')\n",
    "    plt.ylabel('accuracy')\n",
    "    plt.xlabel('epoch')\n",
    "    plt.legend(['train', 'validation'], loc='upper left')\n",
    "    \n",
    "    plt.subplot(1,2,2)\n",
    "    plt.plot(history.history['loss'])\n",
    "    plt.plot(history.history['val_loss'])\n",
    "    plt.title('model loss')\n",
    "    plt.ylabel('accuracy')\n",
    "    plt.xlabel('epoch')\n",
    "    plt.legend(['train', 'validation'], loc='upper left')\n",
    "    \n",
    "def save_keras_model(model):\n",
    "    # serialize model to JSON\n",
    "    model_json = model.to_json()\n",
    "    with open(\"model.json\", \"w\") as json_file:\n",
    "        json_file.write(model_json)\n",
    "    # serialize weights to HDF5\n",
    "    model.save_weights(\"model.h5\")\n",
    "\n",
    "def load_keras_model(filename = 'model.json', weights_filename = 'model.h5'):\n",
    "    json_file = open(filename, 'r')\n",
    "    loaded_model_json = json_file.read()\n",
    "    json_file.close()\n",
    "    loaded_model = model_from_json(loaded_model_json)\n",
    "    # load weights into new model\n",
    "    loaded_model.load_weights(weights_filename)\n",
    "    return loaded_model"
   ]
  },
  {
   "cell_type": "code",
   "execution_count": 34,
   "metadata": {},
   "outputs": [
    {
     "name": "stdout",
     "output_type": "stream",
     "text": [
      " X_train shape: (106720, 260) \n",
      " X_test shape: (13341, 260) \n",
      " X_val shape: (13340, 260)\n"
     ]
    }
   ],
   "source": [
    "X,y = import_the_data()\n",
    "X_train, X_test, y_train, y_test = train_test_split(X,y, test_size = 0.2, random_state = 42)\n",
    "X_trainplusval = X_train\n",
    "y_trainplusval = y_train\n",
    "X_val, X_test, y_val, y_test = train_test_split(X_test, y_test, test_size = 0.5, random_state = 42)\n",
    "print(' X_train shape:', X_train.shape, '\\n', 'X_test shape:', X_test.shape, '\\n', 'X_val shape:', X_val.shape)"
   ]
  },
  {
   "cell_type": "markdown",
   "metadata": {},
   "source": [
    "We have a lot of data, so a neural network makes sense; however, a relatively low number of features (260) suggests that gradient boosting might do well. Let's try both, after fitting logistic regression as a baseline."
   ]
  },
  {
   "cell_type": "markdown",
   "metadata": {},
   "source": [
    "# Logistic regression #"
   ]
  },
  {
   "cell_type": "code",
   "execution_count": 35,
   "metadata": {},
   "outputs": [
    {
     "name": "stderr",
     "output_type": "stream",
     "text": [
      "C:\\Users\\Gintas\\Anaconda3\\envs\\tensorflow\\lib\\site-packages\\sklearn\\utils\\validation.py:761: DataConversionWarning: A column-vector y was passed when a 1d array was expected. Please change the shape of y to (n_samples, ), for example using ravel().\n",
      "  y = column_or_1d(y, warn=True)\n",
      "C:\\Users\\Gintas\\Anaconda3\\envs\\tensorflow\\lib\\site-packages\\sklearn\\model_selection\\_split.py:2053: FutureWarning: You should specify a value for 'cv' instead of relying on the default value. The default value will change from 3 to 5 in version 0.22.\n",
      "  warnings.warn(CV_WARNING, FutureWarning)\n",
      "C:\\Users\\Gintas\\Anaconda3\\envs\\tensorflow\\lib\\site-packages\\sklearn\\linear_model\\logistic.py:758: ConvergenceWarning: lbfgs failed to converge. Increase the number of iterations.\n",
      "  \"of iterations.\", ConvergenceWarning)\n"
     ]
    },
    {
     "name": "stdout",
     "output_type": "stream",
     "text": [
      "Testing score: 0.5875871373959973\n",
      "Training score: 0.5835269865067466\n"
     ]
    }
   ],
   "source": [
    "from sklearn.linear_model import LogisticRegressionCV\n",
    "\n",
    "Cs = np.logspace(-3,4,10)\n",
    "lr = LogisticRegressionCV(Cs=Cs)\n",
    "lr.fit(X_trainplusval,y_trainplusval)\n",
    "print('Testing score:', lr.score(X_test,y_test))\n",
    "print('Training score:', lr.score(X_trainplusval,y_trainplusval))"
   ]
  },
  {
   "cell_type": "markdown",
   "metadata": {},
   "source": [
    "# Neural network #"
   ]
  },
  {
   "cell_type": "markdown",
   "metadata": {},
   "source": [
    "Now, what kind of architecture should be used here?\n",
    "\n",
    "The simple, sparse input form means the network is very prone to overfitting (though the input is mostly zeroes, theres over 1e13 combinations of 1s to distribute there, each of these 1e13 corresponding to a wildly different set of hero choices and hence a different game) given the network a lot of hidden nodes. There's two ways to go around this - either limit the number of neurons, or introduce some extreme regularisation (dropout around 0.5). Turns out, a larger network with regularisation outperforms a small one by 1-2%."
   ]
  },
  {
   "cell_type": "code",
   "execution_count": 7,
   "metadata": {},
   "outputs": [],
   "source": [
    "from sklearn.model_selection import train_test_split\n",
    "from tensorflow.keras.models import Sequential\n",
    "from tensorflow.keras.layers import Dense, Dropout, BatchNormalization\n",
    "from tensorflow.keras.callbacks import EarlyStopping"
   ]
  },
  {
   "cell_type": "code",
   "execution_count": 29,
   "metadata": {},
   "outputs": [
    {
     "name": "stdout",
     "output_type": "stream",
     "text": [
      "_________________________________________________________________\n",
      "Layer (type)                 Output Shape              Param #   \n",
      "=================================================================\n",
      "dense_18 (Dense)             (None, 256)               66816     \n",
      "_________________________________________________________________\n",
      "dropout_12 (Dropout)         (None, 256)               0         \n",
      "_________________________________________________________________\n",
      "batch_normalization_12 (Batc (None, 256)               1024      \n",
      "_________________________________________________________________\n",
      "dense_19 (Dense)             (None, 64)                16448     \n",
      "_________________________________________________________________\n",
      "dropout_13 (Dropout)         (None, 64)                0         \n",
      "_________________________________________________________________\n",
      "batch_normalization_13 (Batc (None, 64)                256       \n",
      "_________________________________________________________________\n",
      "dense_20 (Dense)             (None, 1)                 65        \n",
      "=================================================================\n",
      "Total params: 84,609\n",
      "Trainable params: 83,969\n",
      "Non-trainable params: 640\n",
      "_________________________________________________________________\n",
      "Train on 106720 samples, validate on 13340 samples\n",
      "Epoch 1/50\n",
      "106720/106720 [==============================] - 33s 305us/step - loss: 0.6903 - acc: 0.5570 - val_loss: 0.6742 - val_acc: 0.5798\n",
      "Epoch 2/50\n",
      "106720/106720 [==============================] - 32s 302us/step - loss: 0.6781 - acc: 0.5715 - val_loss: 0.6735 - val_acc: 0.5820\n",
      "Epoch 3/50\n",
      "106720/106720 [==============================] - 34s 319us/step - loss: 0.6765 - acc: 0.5752 - val_loss: 0.6746 - val_acc: 0.5854\n",
      "Epoch 4/50\n",
      "106720/106720 [==============================] - 34s 316us/step - loss: 0.6765 - acc: 0.5746 - val_loss: 0.6735 - val_acc: 0.5802\n",
      "Epoch 5/50\n",
      "106720/106720 [==============================] - 33s 310us/step - loss: 0.6762 - acc: 0.5756 - val_loss: 0.6729 - val_acc: 0.5804\n",
      "Epoch 6/50\n",
      "106720/106720 [==============================] - 32s 302us/step - loss: 0.6753 - acc: 0.5773 - val_loss: 0.6727 - val_acc: 0.5840\n",
      "Epoch 7/50\n",
      "106720/106720 [==============================] - 31s 292us/step - loss: 0.6751 - acc: 0.5786 - val_loss: 0.6722 - val_acc: 0.5852\n",
      "Epoch 8/50\n",
      "106720/106720 [==============================] - 31s 291us/step - loss: 0.6747 - acc: 0.5789 - val_loss: 0.6742 - val_acc: 0.5785\n",
      "Epoch 9/50\n",
      "106720/106720 [==============================] - 31s 286us/step - loss: 0.6739 - acc: 0.5809 - val_loss: 0.6726 - val_acc: 0.5867\n",
      "Epoch 10/50\n",
      "106720/106720 [==============================] - 31s 287us/step - loss: 0.6750 - acc: 0.5778 - val_loss: 0.6722 - val_acc: 0.5838\n",
      "Epoch 11/50\n",
      "106720/106720 [==============================] - 31s 290us/step - loss: 0.6746 - acc: 0.5789 - val_loss: 0.6717 - val_acc: 0.5822\n",
      "Epoch 12/50\n",
      "106720/106720 [==============================] - 37s 345us/step - loss: 0.6744 - acc: 0.5793 - val_loss: 0.6734 - val_acc: 0.5758\n",
      "Epoch 13/50\n",
      "106720/106720 [==============================] - 35s 325us/step - loss: 0.6743 - acc: 0.5808 - val_loss: 0.6719 - val_acc: 0.5832\n",
      "Epoch 14/50\n",
      "106720/106720 [==============================] - 35s 323us/step - loss: 0.6739 - acc: 0.5802 - val_loss: 0.6724 - val_acc: 0.5856\n",
      "Epoch 15/50\n",
      "106720/106720 [==============================] - 34s 316us/step - loss: 0.6738 - acc: 0.5794 - val_loss: 0.6718 - val_acc: 0.5815\n",
      "Epoch 16/50\n",
      "106720/106720 [==============================] - 34s 314us/step - loss: 0.6737 - acc: 0.5812 - val_loss: 0.6714 - val_acc: 0.5849\n",
      "Epoch 17/50\n",
      "106720/106720 [==============================] - 33s 311us/step - loss: 0.6735 - acc: 0.5795 - val_loss: 0.6723 - val_acc: 0.5809\n",
      "Epoch 18/50\n",
      "106720/106720 [==============================] - 34s 320us/step - loss: 0.6734 - acc: 0.5820 - val_loss: 0.6724 - val_acc: 0.5828\n",
      "Epoch 19/50\n",
      "106720/106720 [==============================] - 38s 357us/step - loss: 0.6726 - acc: 0.5842 - val_loss: 0.6723 - val_acc: 0.5856\n",
      "Epoch 20/50\n",
      "106720/106720 [==============================] - 37s 343us/step - loss: 0.6735 - acc: 0.5818 - val_loss: 0.6716 - val_acc: 0.5876\n",
      "Epoch 21/50\n",
      "106720/106720 [==============================] - 36s 337us/step - loss: 0.6726 - acc: 0.5829 - val_loss: 0.6713 - val_acc: 0.5841\n",
      "Epoch 22/50\n",
      "106720/106720 [==============================] - 38s 357us/step - loss: 0.6732 - acc: 0.5824 - val_loss: 0.6712 - val_acc: 0.5857\n",
      "Epoch 23/50\n",
      "106720/106720 [==============================] - 40s 377us/step - loss: 0.6732 - acc: 0.5827 - val_loss: 0.6729 - val_acc: 0.5849\n",
      "Epoch 24/50\n",
      "106720/106720 [==============================] - 41s 380us/step - loss: 0.6730 - acc: 0.5829 - val_loss: 0.6714 - val_acc: 0.5879\n",
      "Epoch 25/50\n",
      "106720/106720 [==============================] - 40s 379us/step - loss: 0.6726 - acc: 0.5836 - val_loss: 0.6716 - val_acc: 0.5846\n",
      "Epoch 26/50\n",
      "106720/106720 [==============================] - 41s 381us/step - loss: 0.6728 - acc: 0.5841 - val_loss: 0.6728 - val_acc: 0.5810\n",
      "Epoch 27/50\n",
      "106720/106720 [==============================] - 40s 379us/step - loss: 0.6725 - acc: 0.5834 - val_loss: 0.6714 - val_acc: 0.5864\n"
     ]
    }
   ],
   "source": [
    "model = Sequential([\n",
    "    Dense(256, activation = 'tanh', input_dim = X_train.shape[1]), \n",
    "    Dropout(0.5),\n",
    "    BatchNormalization(),\n",
    "    Dense(64, activation = 'tanh'),\n",
    "    Dropout(0.5),\n",
    "    BatchNormalization(),\n",
    "    Dense(1, activation = 'sigmoid')\n",
    "])\n",
    "callback = EarlyStopping(monitor = 'val_loss', patience = 5)\n",
    "model.compile(optimizer = 'adam', loss = 'binary_crossentropy', metrics = ['accuracy'])\n",
    "model.summary()\n",
    "history = model.fit(X_train,y_train, \n",
    "                              validation_data = (X_val,y_val),\n",
    "                              batch_size = 10,\n",
    "                              epochs=50,\n",
    "                              shuffle = True,\n",
    "                              callbacks = [callback])"
   ]
  },
  {
   "cell_type": "code",
   "execution_count": 30,
   "metadata": {},
   "outputs": [
    {
     "data": {
      "image/png": "[encoded data removed]",
      "text/plain": [
       "<Figure size 1008x576 with 2 Axes>"
      ]
     },
     "metadata": {
      "needs_background": "light"
     },
     "output_type": "display_data"
    }
   ],
   "source": [
    "validation_plots()"
   ]
  },
  {
   "cell_type": "code",
   "execution_count": 31,
   "metadata": {},
   "outputs": [
    {
     "name": "stdout",
     "output_type": "stream",
     "text": [
      "13341/13341 [==============================] - 1s 50us/step\n",
      "Accuracy on the test set: 0.5922344651869879\n"
     ]
    }
   ],
   "source": [
    "print('Accuracy on the test set:', model.evaluate(X_test,y_test)[1])"
   ]
  },
  {
   "cell_type": "code",
   "execution_count": 39,
   "metadata": {},
   "outputs": [],
   "source": [
    "save_keras_model(model)"
   ]
  },
  {
   "cell_type": "markdown",
   "metadata": {},
   "source": [
    "## Gradient Boosting Machine (not tuned)##"
   ]
  },
  {
   "cell_type": "code",
   "execution_count": 36,
   "metadata": {},
   "outputs": [
    {
     "name": "stderr",
     "output_type": "stream",
     "text": [
      "C:\\Users\\Gintas\\Anaconda3\\envs\\tensorflow\\lib\\site-packages\\sklearn\\utils\\validation.py:761: DataConversionWarning: A column-vector y was passed when a 1d array was expected. Please change the shape of y to (n_samples, ), for example using ravel().\n",
      "  y = column_or_1d(y, warn=True)\n"
     ]
    },
    {
     "name": "stdout",
     "output_type": "stream",
     "text": [
      "Testing score: 0.5775429128251256\n",
      "Training score: 0.5822526236881559\n"
     ]
    }
   ],
   "source": [
    "from sklearn.ensemble import GradientBoostingClassifier\n",
    "gbm = GradientBoostingClassifier()\n",
    "gbm.fit(X_trainplusval,y_trainplusval)\n",
    "print('Testing score:', gbm.score(X_test,y_test))\n",
    "print('Training score:', gbm.score(X_trainplusval,y_trainplusval))"
   ]
  },
  {
   "cell_type": "markdown",
   "metadata": {},
   "source": [
    "## Best accuracy: 59.2%"
   ]
  },
  {
   "cell_type": "markdown",
   "metadata": {},
   "source": [
    "Potential ways to improve:\n",
    "\n",
    "-  Features: emphasise popular / high winrate heroes by building features to show what the hero is paired with\n",
    "-  Tune GBM hyperparameters to build an equally competitive model, then do ensembling\n",
    "-  Mess around with the NN architecture"
   ]
  },
  {
   "cell_type": "code",
   "execution_count": null,
   "metadata": {},
   "outputs": [],
   "source": []
  }
 ],
 "metadata": {
  "kernelspec": {
   "display_name": "Python 3",
   "language": "python",
   "name": "python3"
  },
  "language_info": {
   "codemirror_mode": {
    "name": "ipython",
    "version": 3
   },
   "file_extension": ".py",
   "mimetype": "text/x-python",
   "name": "python",
   "nbconvert_exporter": "python",
   "pygments_lexer": "ipython3",
   "version": "3.6.8"
  }
 },
 "nbformat": 4,
 "nbformat_minor": 2
}
